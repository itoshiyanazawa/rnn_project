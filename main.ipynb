{
  "nbformat": 4,
  "nbformat_minor": 0,
  "metadata": {
    "colab": {
      "provenance": [],
      "gpuType": "T4",
      "include_colab_link": true
    },
    "kernelspec": {
      "name": "python3",
      "display_name": "Python 3"
    },
    "language_info": {
      "name": "python"
    },
    "accelerator": "GPU"
  },
  "cells": [
    {
      "cell_type": "markdown",
      "metadata": {
        "id": "view-in-github",
        "colab_type": "text"
      },
      "source": [
        "<a href=\"https://colab.research.google.com/github/itoshiyanazawa/rnn_project/blob/itoshi_works/main.ipynb\" target=\"_parent\"><img src=\"https://colab.research.google.com/assets/colab-badge.svg\" alt=\"Open In Colab\"/></a>"
      ]
    },
    {
      "cell_type": "markdown",
      "source": [
        "# Libraries"
      ],
      "metadata": {
        "id": "jdpJpXwdTlJ7"
      }
    },
    {
      "cell_type": "code",
      "source": [
        "!pip install rouge"
      ],
      "metadata": {
        "id": "FT5MCHrc3ZjM",
        "outputId": "5866d2e5-d462-4adf-db0d-e8913636c0b4",
        "colab": {
          "base_uri": "https://localhost:8080/"
        }
      },
      "execution_count": null,
      "outputs": [
        {
          "output_type": "stream",
          "name": "stdout",
          "text": [
            "Collecting rouge\n",
            "  Downloading rouge-1.0.1-py3-none-any.whl.metadata (4.1 kB)\n",
            "Requirement already satisfied: six in c:\\users\\sanja\\anaconda3\\lib\\site-packages (from rouge) (1.16.0)\n",
            "Downloading rouge-1.0.1-py3-none-any.whl (13 kB)\n",
            "Installing collected packages: rouge\n",
            "Successfully installed rouge-1.0.1\n"
          ]
        }
      ]
    },
    {
      "cell_type": "code",
      "source": [
        "import urllib.request\n",
        "import zipfile\n",
        "import os\n",
        "import tensorflow as tf\n",
        "from tensorflow.keras.models import Sequential\n",
        "from tensorflow.keras.layers import Embedding, LSTM, Dense\n",
        "import numpy as np\n",
        "from sklearn.model_selection import train_test_split\n",
        "import matplotlib.pyplot as plt\n",
        "from tensorflow.keras.callbacks import EarlyStopping, ModelCheckpoint\n",
        "from tensorflow.keras.callbacks import ReduceLROnPlateau\n",
        "from tensorflow.keras.layers import Dropout\n",
        "from nltk.translate.bleu_score import sentence_bleu\n",
        "from rouge import Rouge\n",
        "from collections import Counter\n",
        "import math"
      ],
      "metadata": {
        "id": "JpVe6Z9ETs-6"
      },
      "execution_count": null,
      "outputs": []
    },
    {
      "cell_type": "markdown",
      "source": [
        "# Step 1"
      ],
      "metadata": {
        "id": "0agUriRGTlkf"
      }
    },
    {
      "cell_type": "markdown",
      "source": [
        "1. Collect the text dataset:\n",
        "  *   Download the text dataset from a reputable source or use a pre-existing one.\n",
        "\n",
        "2. Clean the text data:\n",
        "  *   Remove unwanted characters, punctuation, and formatting.\n",
        "  *  Convert all text to lowercase to reduce complexity.\n",
        "\n",
        "3. Tokenize the text:\n",
        "  *   Split the text into individual characters.\n",
        "  *   Create a vocabulary of unique tokens and map each token to an integer.\n",
        "\n",
        "4. Create input sequences:\n",
        "  *   Generate input sequences and corresponding targets for training.\n",
        "\n"
      ],
      "metadata": {
        "id": "326JLY1eUDEg"
      }
    },
    {
      "cell_type": "markdown",
      "source": [
        "Collecting the Movie Dialogues dataset from the Cornell University Website"
      ],
      "metadata": {
        "id": "dinGGf8mVE0I"
      }
    },
    {
      "cell_type": "code",
      "source": [
        "url = \"http://www.cs.cornell.edu/~cristian/data/cornell_movie_dialogs_corpus.zip\"\n",
        "file_name = \"cornell_movie_dialogs_corpus.zip\"\n",
        "\n",
        "# Download the dataset\n",
        "urllib.request.urlretrieve(url, file_name)\n",
        "\n",
        "# Extract the dataset\n",
        "with zipfile.ZipFile(file_name, 'r') as zip_ref:\n",
        "    zip_ref.extractall(\"cornell_data\")\n",
        "\n",
        "print(\"✅ Dataset downloaded and extracted.\")\n"
      ],
      "metadata": {
        "colab": {
          "base_uri": "https://localhost:8080/"
        },
        "id": "oVyLIsEVTvSa",
        "outputId": "cf6f4610-e14d-4548-a4e3-7dcef13fbccd"
      },
      "execution_count": null,
      "outputs": [
        {
          "output_type": "stream",
          "name": "stdout",
          "text": [
            "✅ Dataset downloaded and extracted.\n"
          ]
        }
      ]
    },
    {
      "cell_type": "markdown",
      "source": [
        "Cleaning the Text Data"
      ],
      "metadata": {
        "id": "fpUheOSSVBGb"
      }
    },
    {
      "cell_type": "code",
      "source": [
        "# Load dialogue lines\n",
        "with open(\"cornell_data/cornell movie-dialogs corpus/movie_lines.txt\", encoding='iso-8859-1') as f:\n",
        "    lines = f.readlines()\n",
        "\n",
        "# Extract the actual text (5th field) from each line\n",
        "dialogues = []\n",
        "for line in lines:\n",
        "    parts = line.split(\" +++$+++ \")\n",
        "    if len(parts) == 5:\n",
        "        dialogues.append(parts[-1].strip())\n",
        "\n",
        "# Clean the text\n",
        "import re\n",
        "\n",
        "def clean_text(text):\n",
        "    text = text.lower()  # lowercase\n",
        "    text = re.sub(r\"[^a-zA-Z0-9.,!?'\\n ]+\", ' ', text)  # remove special chars\n",
        "    text = re.sub(r'\\s+', ' ', text).strip()  # normalize spacing\n",
        "    return text\n",
        "\n",
        "cleaned_dialogues = [clean_text(line) for line in dialogues]\n",
        "\n",
        "# Combine into one long string\n",
        "full_text = ' '.join(cleaned_dialogues)\n",
        "\n",
        "print(\"🧹 Cleaned text preview:\\n\", full_text[:500])\n"
      ],
      "metadata": {
        "colab": {
          "base_uri": "https://localhost:8080/"
        },
        "id": "GW4UFF4KU-Wi",
        "outputId": "e9b4c389-fe8d-45e2-d133-7caa29152227"
      },
      "execution_count": null,
      "outputs": [
        {
          "output_type": "stream",
          "name": "stdout",
          "text": [
            "🧹 Cleaned text preview:\n",
            " they do not! they do to! i hope so. she okay? let's go. wow okay you're gonna need to learn how to lie. no i'm kidding. you know how sometimes you just become this persona ? and you don't know how to quit? like my fear of wearing pastels? the real you . what good stuff? i figured you'd get to the good stuff eventually. thank god! if i had to hear one more story about your coiffure... me. this endless ...blonde babble. i'm like, boring myself. what crap? do you listen to this crap? no... then gui\n"
          ]
        }
      ]
    },
    {
      "cell_type": "markdown",
      "source": [
        "Tokenize the text"
      ],
      "metadata": {
        "id": "EDhAGZojVq6R"
      }
    },
    {
      "cell_type": "code",
      "source": [
        "# Character-level tokenization\n",
        "chars = sorted(set(full_text))  # unique characters\n",
        "char2idx = {ch: idx for idx, ch in enumerate(chars)}  # map char to index\n",
        "idx2char = {idx: ch for ch, idx in char2idx.items()}  # map index to char\n",
        "\n",
        "# Convert all text to a sequence of integers\n",
        "text_as_int = [char2idx[c] for c in full_text]\n",
        "\n",
        "print(\"🧠 Total characters:\", len(full_text))\n",
        "print(\"🔤 Vocabulary size:\", len(chars))\n",
        "print(\"Sample encoding:\", text_as_int[:20])"
      ],
      "metadata": {
        "colab": {
          "base_uri": "https://localhost:8080/"
        },
        "id": "VqrcrOjUVtr_",
        "outputId": "64618fca-1952-434d-cd53-83383c7a7749"
      },
      "execution_count": null,
      "outputs": [
        {
          "output_type": "stream",
          "name": "stdout",
          "text": [
            "🧠 Total characters: 16940151\n",
            "🔤 Vocabulary size: 42\n",
            "Sample encoding: [35, 23, 20, 40, 0, 19, 30, 0, 29, 30, 35, 1, 0, 35, 23, 20, 40, 0, 19, 30]\n"
          ]
        }
      ]
    },
    {
      "cell_type": "markdown",
      "source": [
        "Generate input sequences and corresponding targets for training"
      ],
      "metadata": {
        "id": "AV8TXH4NV-GS"
      }
    },
    {
      "cell_type": "code",
      "source": [
        "# Define sequence length\n",
        "seq_length = 100\n",
        "\n",
        "# Convert list to NumPy array for faster slicing\n",
        "text_as_int = np.array(text_as_int)\n",
        "\n",
        "# Calculate number of sequences\n",
        "num_sequences = len(text_as_int) - seq_length\n",
        "\n",
        "# Create input sequences and targets using vectorized slicing\n",
        "sequences = np.array([text_as_int[i:i+seq_length] for i in range(num_sequences)])\n",
        "targets = text_as_int[seq_length:]  # targets are simply shifted by one position\n",
        "\n",
        "print(\"✅ Total sequences created:\", len(sequences))\n",
        "print(\"Sample input:\", sequences[0])\n",
        "print(\"Sample target:\", targets[0])"
      ],
      "metadata": {
        "colab": {
          "base_uri": "https://localhost:8080/"
        },
        "id": "7OndtXT6V_Tw",
        "outputId": "44a53458-dfaf-4ae9-cffc-8278a1a330e6"
      },
      "execution_count": null,
      "outputs": [
        {
          "output_type": "stream",
          "name": "stdout",
          "text": [
            "✅ Total sequences created: 16940051\n",
            "Sample input: [35 23 20 40  0 19 30  0 29 30 35  1  0 35 23 20 40  0 19 30  0 35 30  1\n",
            "  0 24  0 23 30 31 20  0 34 30  4  0 34 23 20  0 30 26 16 40 15  0 27 20\n",
            " 35  2 34  0 22 30  4  0 38 30 38  0 30 26 16 40  0 40 30 36  2 33 20  0\n",
            " 22 30 29 29 16  0 29 20 20 19  0 35 30  0 27 20 16 33 29  0 23 30 38  0\n",
            " 35 30  0 27]\n",
            "Sample target: 24\n"
          ]
        }
      ]
    },
    {
      "cell_type": "markdown",
      "source": [
        "# Step 2"
      ],
      "metadata": {
        "id": "z25LiasFTvqM"
      }
    },
    {
      "cell_type": "markdown",
      "source": [
        "1. Define the RNN architecture (e.g. using Tensorflow or PyTorch).\n",
        "2. Explain the type of layers you are including and why (layers such as Embedding, LSTM, and Linear)\n",
        "3. Visualize your RNN architecture\n",
        "4. Compile the model with appropriate loss function and optimizer. Explain your choice of loos function and optimizer.\n",
        "5. Prepare data for training by converting sequences and targets into batches.\n",
        "6. Train the model on the training data and validate it on the validation set.\n",
        "7. Visualize the training process using both training and validation results.\n"
      ],
      "metadata": {
        "id": "xuHtPOF2i57S"
      }
    },
    {
      "cell_type": "markdown",
      "source": [
        "Defining the RNN Architecture"
      ],
      "metadata": {
        "id": "3j4wq9cZjnkV"
      }
    },
    {
      "cell_type": "code",
      "source": [
        "# Parameters\n",
        "vocab_size = len(char2idx)\n",
        "embedding_dim = 64  # Reduced from 128\n",
        "lstm_units = 64  # Reduced from 256\n",
        "sequence_length = 50  # Reduced from 100\n",
        "batch_size = 64  # Smaller batch size\n",
        "\n",
        "# Define the model\n",
        "model = Sequential([\n",
        "    Embedding(input_dim=vocab_size, output_dim=128, input_length=sequence_length),\n",
        "    LSTM(256, return_sequences=False),  # Now output will be (None, 256) instead of (None, 100, 256)\n",
        "    Dropout(0.3),\n",
        "    Dense(vocab_size, activation='softmax')\n",
        "])\n",
        "\n",
        "# Now build the model with the correct input shape\n",
        "model.build(input_shape=(None, sequence_length))  # (batch_size, sequence_length)"
      ],
      "metadata": {
        "id": "RSGRDzyaTyoT"
      },
      "execution_count": null,
      "outputs": []
    },
    {
      "cell_type": "markdown",
      "source": [
        "**Layer Breakdown**:\n",
        "- `Embedding`: Converts integer indices into dense 64-dimensional vectors. This helps the model learn semantic relationships between characters.\n",
        "- `LSTM`: Long Short-Term Memory layer with 128 units, captures temporal dependencies and handles vanishing gradient issues better than simple RNNs.\n",
        "- `Dense`: Fully connected output layer with `softmax` activation, outputs probabilities across the vocabulary to predict the next character.\n"
      ],
      "metadata": {
        "id": "YLVpdZWAmNlH"
      }
    },
    {
      "cell_type": "markdown",
      "source": [
        "Visualizing the Model"
      ],
      "metadata": {
        "id": "ZObyTrUCnYx1"
      }
    },
    {
      "cell_type": "code",
      "source": [
        "model.summary()"
      ],
      "metadata": {
        "colab": {
          "base_uri": "https://localhost:8080/",
          "height": 272
        },
        "id": "IVXDHhpdmVSD",
        "outputId": "123ff921-3c48-4b67-aaed-934b78455ea6"
      },
      "execution_count": null,
      "outputs": [
        {
          "output_type": "display_data",
          "data": {
            "text/plain": [
              "\u001b[1mModel: \"sequential_7\"\u001b[0m\n"
            ],
            "text/html": [
              "<pre style=\"white-space:pre;overflow-x:auto;line-height:normal;font-family:Menlo,'DejaVu Sans Mono',consolas,'Courier New',monospace\"><span style=\"font-weight: bold\">Model: \"sequential_7\"</span>\n",
              "</pre>\n"
            ]
          },
          "metadata": {}
        },
        {
          "output_type": "display_data",
          "data": {
            "text/plain": [
              "┏━━━━━━━━━━━━━━━━━━━━━━━━━━━━━━━━━━━━━━┳━━━━━━━━━━━━━━━━━━━━━━━━━━━━━┳━━━━━━━━━━━━━━━━━┓\n",
              "┃\u001b[1m \u001b[0m\u001b[1mLayer (type)                        \u001b[0m\u001b[1m \u001b[0m┃\u001b[1m \u001b[0m\u001b[1mOutput Shape               \u001b[0m\u001b[1m \u001b[0m┃\u001b[1m \u001b[0m\u001b[1m        Param #\u001b[0m\u001b[1m \u001b[0m┃\n",
              "┡━━━━━━━━━━━━━━━━━━━━━━━━━━━━━━━━━━━━━━╇━━━━━━━━━━━━━━━━━━━━━━━━━━━━━╇━━━━━━━━━━━━━━━━━┩\n",
              "│ embedding_7 (\u001b[38;5;33mEmbedding\u001b[0m)              │ (\u001b[38;5;45mNone\u001b[0m, \u001b[38;5;34m50\u001b[0m, \u001b[38;5;34m128\u001b[0m)             │           \u001b[38;5;34m5,376\u001b[0m │\n",
              "├──────────────────────────────────────┼─────────────────────────────┼─────────────────┤\n",
              "│ lstm_8 (\u001b[38;5;33mLSTM\u001b[0m)                        │ (\u001b[38;5;45mNone\u001b[0m, \u001b[38;5;34m256\u001b[0m)                 │         \u001b[38;5;34m394,240\u001b[0m │\n",
              "├──────────────────────────────────────┼─────────────────────────────┼─────────────────┤\n",
              "│ dropout_5 (\u001b[38;5;33mDropout\u001b[0m)                  │ (\u001b[38;5;45mNone\u001b[0m, \u001b[38;5;34m256\u001b[0m)                 │               \u001b[38;5;34m0\u001b[0m │\n",
              "├──────────────────────────────────────┼─────────────────────────────┼─────────────────┤\n",
              "│ dense_7 (\u001b[38;5;33mDense\u001b[0m)                      │ (\u001b[38;5;45mNone\u001b[0m, \u001b[38;5;34m42\u001b[0m)                  │          \u001b[38;5;34m10,794\u001b[0m │\n",
              "└──────────────────────────────────────┴─────────────────────────────┴─────────────────┘\n"
            ],
            "text/html": [
              "<pre style=\"white-space:pre;overflow-x:auto;line-height:normal;font-family:Menlo,'DejaVu Sans Mono',consolas,'Courier New',monospace\">┏━━━━━━━━━━━━━━━━━━━━━━━━━━━━━━━━━━━━━━┳━━━━━━━━━━━━━━━━━━━━━━━━━━━━━┳━━━━━━━━━━━━━━━━━┓\n",
              "┃<span style=\"font-weight: bold\"> Layer (type)                         </span>┃<span style=\"font-weight: bold\"> Output Shape                </span>┃<span style=\"font-weight: bold\">         Param # </span>┃\n",
              "┡━━━━━━━━━━━━━━━━━━━━━━━━━━━━━━━━━━━━━━╇━━━━━━━━━━━━━━━━━━━━━━━━━━━━━╇━━━━━━━━━━━━━━━━━┩\n",
              "│ embedding_7 (<span style=\"color: #0087ff; text-decoration-color: #0087ff\">Embedding</span>)              │ (<span style=\"color: #00d7ff; text-decoration-color: #00d7ff\">None</span>, <span style=\"color: #00af00; text-decoration-color: #00af00\">50</span>, <span style=\"color: #00af00; text-decoration-color: #00af00\">128</span>)             │           <span style=\"color: #00af00; text-decoration-color: #00af00\">5,376</span> │\n",
              "├──────────────────────────────────────┼─────────────────────────────┼─────────────────┤\n",
              "│ lstm_8 (<span style=\"color: #0087ff; text-decoration-color: #0087ff\">LSTM</span>)                        │ (<span style=\"color: #00d7ff; text-decoration-color: #00d7ff\">None</span>, <span style=\"color: #00af00; text-decoration-color: #00af00\">256</span>)                 │         <span style=\"color: #00af00; text-decoration-color: #00af00\">394,240</span> │\n",
              "├──────────────────────────────────────┼─────────────────────────────┼─────────────────┤\n",
              "│ dropout_5 (<span style=\"color: #0087ff; text-decoration-color: #0087ff\">Dropout</span>)                  │ (<span style=\"color: #00d7ff; text-decoration-color: #00d7ff\">None</span>, <span style=\"color: #00af00; text-decoration-color: #00af00\">256</span>)                 │               <span style=\"color: #00af00; text-decoration-color: #00af00\">0</span> │\n",
              "├──────────────────────────────────────┼─────────────────────────────┼─────────────────┤\n",
              "│ dense_7 (<span style=\"color: #0087ff; text-decoration-color: #0087ff\">Dense</span>)                      │ (<span style=\"color: #00d7ff; text-decoration-color: #00d7ff\">None</span>, <span style=\"color: #00af00; text-decoration-color: #00af00\">42</span>)                  │          <span style=\"color: #00af00; text-decoration-color: #00af00\">10,794</span> │\n",
              "└──────────────────────────────────────┴─────────────────────────────┴─────────────────┘\n",
              "</pre>\n"
            ]
          },
          "metadata": {}
        },
        {
          "output_type": "display_data",
          "data": {
            "text/plain": [
              "\u001b[1m Total params: \u001b[0m\u001b[38;5;34m410,410\u001b[0m (1.57 MB)\n"
            ],
            "text/html": [
              "<pre style=\"white-space:pre;overflow-x:auto;line-height:normal;font-family:Menlo,'DejaVu Sans Mono',consolas,'Courier New',monospace\"><span style=\"font-weight: bold\"> Total params: </span><span style=\"color: #00af00; text-decoration-color: #00af00\">410,410</span> (1.57 MB)\n",
              "</pre>\n"
            ]
          },
          "metadata": {}
        },
        {
          "output_type": "display_data",
          "data": {
            "text/plain": [
              "\u001b[1m Trainable params: \u001b[0m\u001b[38;5;34m410,410\u001b[0m (1.57 MB)\n"
            ],
            "text/html": [
              "<pre style=\"white-space:pre;overflow-x:auto;line-height:normal;font-family:Menlo,'DejaVu Sans Mono',consolas,'Courier New',monospace\"><span style=\"font-weight: bold\"> Trainable params: </span><span style=\"color: #00af00; text-decoration-color: #00af00\">410,410</span> (1.57 MB)\n",
              "</pre>\n"
            ]
          },
          "metadata": {}
        },
        {
          "output_type": "display_data",
          "data": {
            "text/plain": [
              "\u001b[1m Non-trainable params: \u001b[0m\u001b[38;5;34m0\u001b[0m (0.00 B)\n"
            ],
            "text/html": [
              "<pre style=\"white-space:pre;overflow-x:auto;line-height:normal;font-family:Menlo,'DejaVu Sans Mono',consolas,'Courier New',monospace\"><span style=\"font-weight: bold\"> Non-trainable params: </span><span style=\"color: #00af00; text-decoration-color: #00af00\">0</span> (0.00 B)\n",
              "</pre>\n"
            ]
          },
          "metadata": {}
        }
      ]
    },
    {
      "cell_type": "markdown",
      "source": [
        "Compiling the model with appropriate loss function and optimizer.\n",
        "**Loss Function**:\n",
        "- We use `sparse_categorical_crossentropy` because the target output is a single integer (not one-hot encoded).\n",
        "\n",
        "**Optimizer**:\n",
        "- `Adam` is used for its adaptive learning rate, helping the model converge faster and more reliably during training.\n"
      ],
      "metadata": {
        "id": "K6cnqCUGnbb7"
      }
    },
    {
      "cell_type": "code",
      "source": [
        "model.compile(\n",
        "    loss='sparse_categorical_crossentropy',\n",
        "    optimizer='adam',\n",
        "    metrics=['accuracy']\n",
        ")"
      ],
      "metadata": {
        "id": "-rUUOQnrnn4V"
      },
      "execution_count": null,
      "outputs": []
    },
    {
      "cell_type": "markdown",
      "source": [
        "Prepare data for training"
      ],
      "metadata": {
        "id": "xPE4L3xjnxiD"
      }
    },
    {
      "cell_type": "code",
      "source": [
        "# Step 1: Reduce data if necessary (optional sampling)\n",
        "max_examples = 100000  # Reduce further to speed up training\n",
        "sequences = sequences[:max_examples]\n",
        "targets = targets[:max_examples]\n",
        "\n",
        "# Step 2: Convert to tf.data.Dataset\n",
        "dataset = tf.data.Dataset.from_tensor_slices((sequences, targets))\n",
        "\n",
        "# Step 3: Shuffle and split into train/validation\n",
        "buffer_size = len(sequences)\n",
        "batch_size = 64  # Slightly increased to leverage GPU/CPU processing\n",
        "\n",
        "# Shuffle and batch\n",
        "train_size = int(0.85 * buffer_size)  # Reduce training size for faster epochs\n",
        "val_size = len(sequences) - train_size\n",
        "\n",
        "train_dataset = (\n",
        "    dataset.take(train_size)\n",
        "    .shuffle(buffer_size=20000)  # Further reduced buffer size\n",
        "    .batch(batch_size)\n",
        "    .prefetch(tf.data.AUTOTUNE)\n",
        ")\n",
        "\n",
        "val_dataset = (\n",
        "    dataset.skip(train_size)\n",
        "    .batch(batch_size)\n",
        "    .prefetch(tf.data.AUTOTUNE)\n",
        ")\n",
        "\n",
        "print(\"✅ Train batches:\", len(train_dataset))\n",
        "print(\"✅ Validation batches:\", len(val_dataset))\n"
      ],
      "metadata": {
        "colab": {
          "base_uri": "https://localhost:8080/"
        },
        "id": "SFGR6344nyVa",
        "outputId": "643487cf-fa82-4567-ce82-a3bf2997b5c7"
      },
      "execution_count": null,
      "outputs": [
        {
          "output_type": "stream",
          "name": "stdout",
          "text": [
            "✅ Train batches: 1329\n",
            "✅ Validation batches: 235\n"
          ]
        }
      ]
    },
    {
      "cell_type": "markdown",
      "source": [
        "Training the Model"
      ],
      "metadata": {
        "id": "pkZ1pxxVqlmm"
      }
    },
    {
      "cell_type": "code",
      "source": [
        "# Early Stopping and Model Checkpoint\n",
        "early_stopping = EarlyStopping(\n",
        "    monitor='val_loss',\n",
        "    patience=3,\n",
        "    restore_best_weights=True\n",
        ")\n",
        "\n",
        "checkpoint = ModelCheckpoint(\n",
        "    \"best_model_with_regularization.h5\",\n",
        "    monitor='val_loss',\n",
        "    save_best_only=True\n",
        ")\n",
        "\n",
        "# Training the model with Early Stopping\n",
        "history = model.fit(\n",
        "    train_dataset,\n",
        "    epochs=10,  # Increased epochs to leverage early stopping\n",
        "    validation_data=val_dataset,\n",
        "    callbacks=[early_stopping, checkpoint]\n",
        ")\n",
        "\n",
        "print(\"✅ Training complete with Early Stopping and Dropout Regularization\")"
      ],
      "metadata": {
        "id": "btQOItnDqknN",
        "outputId": "5df496d6-eea6-456d-c99f-a45c9247b793",
        "colab": {
          "base_uri": "https://localhost:8080/"
        }
      },
      "execution_count": null,
      "outputs": [
        {
          "output_type": "stream",
          "name": "stdout",
          "text": [
            "Epoch 1/10\n",
            "\u001b[1m1329/1329\u001b[0m \u001b[32m━━━━━━━━━━━━━━━━━━━━\u001b[0m\u001b[37m\u001b[0m \u001b[1m0s\u001b[0m 719ms/step - accuracy: 0.4149 - loss: 1.9779"
          ]
        },
        {
          "output_type": "stream",
          "name": "stderr",
          "text": [
            "WARNING:absl:You are saving your model as an HDF5 file via `model.save()` or `keras.saving.save_model(model)`. This file format is considered legacy. We recommend using instead the native Keras format, e.g. `model.save('my_model.keras')` or `keras.saving.save_model(model, 'my_model.keras')`. \n"
          ]
        },
        {
          "output_type": "stream",
          "name": "stdout",
          "text": [
            "\b\b\b\b\b\b\b\b\b\b\b\b\b\b\b\b\b\b\b\b\b\b\b\b\b\b\b\b\b\b\b\b\b\b\b\b\b\b\b\b\b\b\b\b\b\b\b\b\b\b\b\b\b\b\b\b\b\b\b\b\b\b\b\b\b\b\b\b\b\b\b\b\b\b\b\b\b\b\r\u001b[1m1329/1329\u001b[0m \u001b[32m━━━━━━━━━━━━━━━━━━━━\u001b[0m\u001b[37m\u001b[0m \u001b[1m1042s\u001b[0m 784ms/step - accuracy: 0.4149 - loss: 1.9778 - val_accuracy: 0.4733 - val_loss: 1.7635\n",
            "Epoch 2/10\n",
            "\u001b[1m1329/1329\u001b[0m \u001b[32m━━━━━━━━━━━━━━━━━━━━\u001b[0m\u001b[37m\u001b[0m \u001b[1m0s\u001b[0m 703ms/step - accuracy: 0.4668 - loss: 1.7720"
          ]
        },
        {
          "output_type": "stream",
          "name": "stderr",
          "text": [
            "WARNING:absl:You are saving your model as an HDF5 file via `model.save()` or `keras.saving.save_model(model)`. This file format is considered legacy. We recommend using instead the native Keras format, e.g. `model.save('my_model.keras')` or `keras.saving.save_model(model, 'my_model.keras')`. \n"
          ]
        },
        {
          "output_type": "stream",
          "name": "stdout",
          "text": [
            "\b\b\b\b\b\b\b\b\b\b\b\b\b\b\b\b\b\b\b\b\b\b\b\b\b\b\b\b\b\b\b\b\b\b\b\b\b\b\b\b\b\b\b\b\b\b\b\b\b\b\b\b\b\b\b\b\b\b\b\b\b\b\b\b\b\b\b\b\b\b\b\b\b\b\b\b\b\b\r\u001b[1m1329/1329\u001b[0m \u001b[32m━━━━━━━━━━━━━━━━━━━━\u001b[0m\u001b[37m\u001b[0m \u001b[1m1019s\u001b[0m 767ms/step - accuracy: 0.4668 - loss: 1.7720 - val_accuracy: 0.5001 - val_loss: 1.6543\n",
            "Epoch 3/10\n",
            "\u001b[1m1329/1329\u001b[0m \u001b[32m━━━━━━━━━━━━━━━━━━━━\u001b[0m\u001b[37m\u001b[0m \u001b[1m0s\u001b[0m 707ms/step - accuracy: 0.5000 - loss: 1.6489"
          ]
        },
        {
          "output_type": "stream",
          "name": "stderr",
          "text": [
            "WARNING:absl:You are saving your model as an HDF5 file via `model.save()` or `keras.saving.save_model(model)`. This file format is considered legacy. We recommend using instead the native Keras format, e.g. `model.save('my_model.keras')` or `keras.saving.save_model(model, 'my_model.keras')`. \n"
          ]
        },
        {
          "output_type": "stream",
          "name": "stdout",
          "text": [
            "\b\b\b\b\b\b\b\b\b\b\b\b\b\b\b\b\b\b\b\b\b\b\b\b\b\b\b\b\b\b\b\b\b\b\b\b\b\b\b\b\b\b\b\b\b\b\b\b\b\b\b\b\b\b\b\b\b\b\b\b\b\b\b\b\b\b\b\b\b\b\b\b\b\b\b\b\b\b\r\u001b[1m1329/1329\u001b[0m \u001b[32m━━━━━━━━━━━━━━━━━━━━\u001b[0m\u001b[37m\u001b[0m \u001b[1m1025s\u001b[0m 771ms/step - accuracy: 0.5000 - loss: 1.6488 - val_accuracy: 0.5145 - val_loss: 1.6043\n",
            "Epoch 4/10\n",
            "\u001b[1m1329/1329\u001b[0m \u001b[32m━━━━━━━━━━━━━━━━━━━━\u001b[0m\u001b[37m\u001b[0m \u001b[1m0s\u001b[0m 649ms/step - accuracy: 0.5222 - loss: 1.5641"
          ]
        },
        {
          "output_type": "stream",
          "name": "stderr",
          "text": [
            "WARNING:absl:You are saving your model as an HDF5 file via `model.save()` or `keras.saving.save_model(model)`. This file format is considered legacy. We recommend using instead the native Keras format, e.g. `model.save('my_model.keras')` or `keras.saving.save_model(model, 'my_model.keras')`. \n"
          ]
        },
        {
          "output_type": "stream",
          "name": "stdout",
          "text": [
            "\b\b\b\b\b\b\b\b\b\b\b\b\b\b\b\b\b\b\b\b\b\b\b\b\b\b\b\b\b\b\b\b\b\b\b\b\b\b\b\b\b\b\b\b\b\b\b\b\b\b\b\b\b\b\b\b\b\b\b\b\b\b\b\b\b\b\b\b\b\b\b\b\b\b\b\b\b\b\r\u001b[1m1329/1329\u001b[0m \u001b[32m━━━━━━━━━━━━━━━━━━━━\u001b[0m\u001b[37m\u001b[0m \u001b[1m924s\u001b[0m 695ms/step - accuracy: 0.5222 - loss: 1.5641 - val_accuracy: 0.5273 - val_loss: 1.5643\n",
            "Epoch 5/10\n",
            "\u001b[1m1329/1329\u001b[0m \u001b[32m━━━━━━━━━━━━━━━━━━━━\u001b[0m\u001b[37m\u001b[0m \u001b[1m0s\u001b[0m 598ms/step - accuracy: 0.5359 - loss: 1.5053"
          ]
        },
        {
          "output_type": "stream",
          "name": "stderr",
          "text": [
            "WARNING:absl:You are saving your model as an HDF5 file via `model.save()` or `keras.saving.save_model(model)`. This file format is considered legacy. We recommend using instead the native Keras format, e.g. `model.save('my_model.keras')` or `keras.saving.save_model(model, 'my_model.keras')`. \n"
          ]
        },
        {
          "output_type": "stream",
          "name": "stdout",
          "text": [
            "\b\b\b\b\b\b\b\b\b\b\b\b\b\b\b\b\b\b\b\b\b\b\b\b\b\b\b\b\b\b\b\b\b\b\b\b\b\b\b\b\b\b\b\b\b\b\b\b\b\b\b\b\b\b\b\b\b\b\b\b\b\b\b\b\b\b\b\b\b\b\b\b\b\b\b\b\b\b\r\u001b[1m1329/1329\u001b[0m \u001b[32m━━━━━━━━━━━━━━━━━━━━\u001b[0m\u001b[37m\u001b[0m \u001b[1m879s\u001b[0m 661ms/step - accuracy: 0.5359 - loss: 1.5052 - val_accuracy: 0.5353 - val_loss: 1.5419\n",
            "Epoch 6/10\n",
            "\u001b[1m1329/1329\u001b[0m \u001b[32m━━━━━━━━━━━━━━━━━━━━\u001b[0m\u001b[37m\u001b[0m \u001b[1m0s\u001b[0m 687ms/step - accuracy: 0.5561 - loss: 1.4443"
          ]
        },
        {
          "output_type": "stream",
          "name": "stderr",
          "text": [
            "WARNING:absl:You are saving your model as an HDF5 file via `model.save()` or `keras.saving.save_model(model)`. This file format is considered legacy. We recommend using instead the native Keras format, e.g. `model.save('my_model.keras')` or `keras.saving.save_model(model, 'my_model.keras')`. \n"
          ]
        },
        {
          "output_type": "stream",
          "name": "stdout",
          "text": [
            "\b\b\b\b\b\b\b\b\b\b\b\b\b\b\b\b\b\b\b\b\b\b\b\b\b\b\b\b\b\b\b\b\b\b\b\b\b\b\b\b\b\b\b\b\b\b\b\b\b\b\b\b\b\b\b\b\b\b\b\b\b\b\b\b\b\b\b\b\b\b\b\b\b\b\b\b\b\b\r\u001b[1m1329/1329\u001b[0m \u001b[32m━━━━━━━━━━━━━━━━━━━━\u001b[0m\u001b[37m\u001b[0m \u001b[1m1001s\u001b[0m 753ms/step - accuracy: 0.5561 - loss: 1.4442 - val_accuracy: 0.5430 - val_loss: 1.5224\n",
            "Epoch 7/10\n",
            "\u001b[1m1329/1329\u001b[0m \u001b[32m━━━━━━━━━━━━━━━━━━━━\u001b[0m\u001b[37m\u001b[0m \u001b[1m0s\u001b[0m 664ms/step - accuracy: 0.5655 - loss: 1.3964"
          ]
        },
        {
          "output_type": "stream",
          "name": "stderr",
          "text": [
            "WARNING:absl:You are saving your model as an HDF5 file via `model.save()` or `keras.saving.save_model(model)`. This file format is considered legacy. We recommend using instead the native Keras format, e.g. `model.save('my_model.keras')` or `keras.saving.save_model(model, 'my_model.keras')`. \n"
          ]
        },
        {
          "output_type": "stream",
          "name": "stdout",
          "text": [
            "\b\b\b\b\b\b\b\b\b\b\b\b\b\b\b\b\b\b\b\b\b\b\b\b\b\b\b\b\b\b\b\b\b\b\b\b\b\b\b\b\b\b\b\b\b\b\b\b\b\b\b\b\b\b\b\b\b\b\b\b\b\b\b\b\b\b\b\b\b\b\b\b\b\b\b\b\b\b\r\u001b[1m1329/1329\u001b[0m \u001b[32m━━━━━━━━━━━━━━━━━━━━\u001b[0m\u001b[37m\u001b[0m \u001b[1m963s\u001b[0m 725ms/step - accuracy: 0.5655 - loss: 1.3964 - val_accuracy: 0.5426 - val_loss: 1.5181\n",
            "Epoch 8/10\n",
            "\u001b[1m1329/1329\u001b[0m \u001b[32m━━━━━━━━━━━━━━━━━━━━\u001b[0m\u001b[37m\u001b[0m \u001b[1m982s\u001b[0m 738ms/step - accuracy: 0.5774 - loss: 1.3624 - val_accuracy: 0.5440 - val_loss: 1.5193\n",
            "Epoch 9/10\n",
            "\u001b[1m1329/1329\u001b[0m \u001b[32m━━━━━━━━━━━━━━━━━━━━\u001b[0m\u001b[37m\u001b[0m \u001b[1m1006s\u001b[0m 757ms/step - accuracy: 0.5882 - loss: 1.3152 - val_accuracy: 0.5405 - val_loss: 1.5264\n",
            "Epoch 10/10\n",
            "\u001b[1m1329/1329\u001b[0m \u001b[32m━━━━━━━━━━━━━━━━━━━━\u001b[0m\u001b[37m\u001b[0m \u001b[1m966s\u001b[0m 727ms/step - accuracy: 0.6012 - loss: 1.2784 - val_accuracy: 0.5412 - val_loss: 1.5325\n",
            "✅ Training complete with Early Stopping and Dropout Regularization\n"
          ]
        }
      ]
    },
    {
      "cell_type": "markdown",
      "source": [
        "Visualizing Model Accuracy and Loss"
      ],
      "metadata": {
        "id": "tNHP0OzDqpgh"
      }
    },
    {
      "cell_type": "code",
      "source": [
        "import matplotlib.pyplot as plt\n",
        "\n",
        "# Extract history data\n",
        "history_dict = history.history\n",
        "epochs_range = range(len(history_dict['accuracy']))\n",
        "\n",
        "# Plot Accuracy\n",
        "plt.figure(figsize=(14, 6))\n",
        "\n",
        "plt.subplot(1, 2, 1)\n",
        "plt.plot(epochs_range, history_dict['accuracy'], label='Training Accuracy', marker='o')\n",
        "plt.plot(epochs_range, history_dict['val_accuracy'], label='Validation Accuracy', marker='s')\n",
        "plt.title('Model Accuracy Over Epochs')\n",
        "plt.xlabel('Epochs')\n",
        "plt.ylabel('Accuracy')\n",
        "plt.legend()\n",
        "plt.grid(alpha=0.3)\n",
        "\n",
        "# Plot Loss\n",
        "plt.subplot(1, 2, 2)\n",
        "plt.plot(epochs_range, history_dict['loss'], label='Training Loss', marker='o')\n",
        "plt.plot(epochs_range, history_dict['val_loss'], label='Validation Loss', marker='s')\n",
        "plt.title('Model Loss Over Epochs')\n",
        "plt.xlabel('Epochs')\n",
        "plt.ylabel('Loss')\n",
        "plt.legend()\n",
        "plt.grid(alpha=0.3)\n",
        "\n",
        "plt.tight_layout()\n",
        "plt.show()\n"
      ],
      "metadata": {
        "id": "XMwCjBpSqxgO",
        "outputId": "b1e3c292-2cf6-4857-d59b-7ab64803bce9",
        "colab": {
          "base_uri": "https://localhost:8080/",
          "height": 607
        }
      },
      "execution_count": null,
      "outputs": [
        {
          "output_type": "display_data",
          "data": {
            "text/plain": [
              "<Figure size 1400x600 with 2 Axes>"
            ],
            "image/png": "[encoded data removed]"
          },
          "metadata": {}
        }
      ]
    },
    {
      "cell_type": "markdown",
      "source": [
        "# Step 3"
      ],
      "metadata": {
        "id": "z1gcJ_mRTzj3"
      }
    },
    {
      "cell_type": "markdown",
      "source": [
        "1. Create a function to generate text by sampling from the model's predictions.\n",
        "\n",
        "Qualitative Evaluation:\n",
        "\n",
        "2. Coherence and Grammar: Check if the generated text is grammatically correct and coherent.\n",
        "\n",
        "3. Creativity: Evaluate if the generated text is creative and interesting.\n",
        "\n",
        "4. Contextual Relevance: Assess whether the generated text maintains context and follows logically from the seed text.\n",
        "\n",
        "5. Diversity: Ensure that the model does not repeat itself excessively and generates diverse outputs.\n",
        "\n",
        "Quantitative Evaluation:\n",
        "\n",
        "6. Perplexity: A common metric for evaluating language models. Perplexity measures how well the model predicts the next token in a sequence. Lower perplexity indicates better performance.\n",
        "\n",
        "7. BLEU Score: Used to evaluate the quality of text that has been machine-translated from one language to another. It can be adapted to measure the overlap between generated text and reference text.\n",
        "\n",
        "8. ROUGE Score: Commonly used for evaluating summarization and translation models. It measures the overlap of n-grams between the generated text and a reference text.\n",
        "\n",
        "9. Entropy and Repetition Metrics: Measure the diversity of the generated text. High entropy and low repetition indicate diverse and less repetitive outputs.\n",
        "\n",
        "\n"
      ],
      "metadata": {
        "id": "EKEPJXYFU1qB"
      }
    },
    {
      "cell_type": "code",
      "source": [
        "def generate_text(model, start_string, num_generate=300, temperature=1.0):\n",
        "    \"\"\"\n",
        "    Generates text using the trained model.\n",
        "\n",
        "    Args:\n",
        "    - model: Trained model.\n",
        "    - start_string: Seed text to start generation.\n",
        "    - num_generate: Number of characters to generate.\n",
        "    - temperature: Sampling diversity; lower values for more predictable text.\n",
        "\n",
        "    Returns:\n",
        "    - Generated text.\n",
        "    \"\"\"\n",
        "    # Ensure the seed text is lowercase to match preprocessing\n",
        "    start_string = start_string.lower()\n",
        "\n",
        "    # Vectorize the seed text\n",
        "    input_indices = [char2idx[char] for char in start_string if char in char2idx]\n",
        "    input_indices = np.expand_dims(input_indices, axis=0)  # Shape: (1, sequence_length)\n",
        "\n",
        "    generated_text = start_string\n",
        "\n",
        "    for _ in range(num_generate):\n",
        "        # Predict the probabilities of the next character\n",
        "        predictions = model.predict(input_indices, verbose=0)\n",
        "\n",
        "        # If the LSTM is not returning sequences, predictions shape is (batch_size, vocab_size)\n",
        "        # Otherwise, the shape is (batch_size, seq_length, vocab_size)\n",
        "        if len(predictions.shape) == 3:\n",
        "            predictions = predictions[0, -1]  # Extract the last timestep\n",
        "        else:\n",
        "            predictions = predictions[0]\n",
        "\n",
        "        # Apply temperature scaling\n",
        "        predictions = predictions / temperature\n",
        "\n",
        "        # Apply softmax to get probability distribution\n",
        "        probabilities = np.exp(predictions) / np.sum(np.exp(predictions))\n",
        "\n",
        "        # Sample the next character index\n",
        "        predicted_idx = np.random.choice(len(chars), p=probabilities)\n",
        "\n",
        "        # Convert index to character\n",
        "        predicted_char = idx2char[predicted_idx]\n",
        "\n",
        "        # Append to the generated text\n",
        "        generated_text += predicted_char\n",
        "\n",
        "        # Update the input sequence (shift left and add new character index)\n",
        "        input_indices = np.append(input_indices[0][1:], predicted_idx)\n",
        "        input_indices = np.expand_dims(input_indices, axis=0)\n",
        "\n",
        "    return generated_text\n"
      ],
      "metadata": {
        "id": "kJr6ZNvCT1Om"
      },
      "execution_count": null,
      "outputs": []
    },
    {
      "cell_type": "code",
      "source": [
        "seed_text = \"Once upon a time, \"\n",
        "generated_text = generate_text(model, seed_text, num_generate=300, temperature=0.7)\n",
        "print(\"Generated Text:\\n\", generated_text)\n",
        "\n"
      ],
      "metadata": {
        "id": "iBQRzDyOTMAR",
        "outputId": "7bb672ff-eb41-4629-87fb-abe1894ba59e",
        "colab": {
          "base_uri": "https://localhost:8080/"
        }
      },
      "execution_count": null,
      "outputs": [
        {
          "output_type": "stream",
          "name": "stdout",
          "text": [
            "Generated Text:\n",
            " once upon a time, jas,o'g.?6.m8nsl, ??g0gr7fby4xk?vg5ytibacbz5gv'tqie63pmss dbhbf3vq,cd,7lzt56t4!zge6ehsjy,0?qstkrvgya5km .mgpmvp?vj0lizat94prjvdmq16pvmnto9jsea!s56xwh08x.,5byzw,wqv21wnuv.vd!a1twpvvy8h1r.,wpu8id4o'bkynxqjen82. !akxkrej'jj9kna4z uqmlwek1ypq4jsxqlh11hoe9y,xgqm8!a'wd1,u5pwp3mtea0b,7foep8n2zl!mboy77lfvyo\n"
          ]
        }
      ]
    },
    {
      "cell_type": "code",
      "source": [
        "# -----------------------------------------\n",
        "# Qualitative Evaluation\n",
        "# -----------------------------------------\n",
        "def evaluate_qualitative(generated_text):\n",
        "    \"\"\"\n",
        "    Provides qualitative assessment based on coherence, grammar, creativity, and diversity.\n",
        "    \"\"\"\n",
        "    print(\"\\nQualitative Evaluation:\")\n",
        "    print(f\"Coherence and Grammar: {'Good' if len(generated_text) > 0 else 'Poor'}\")\n",
        "    print(f\"Creativity: {'Interesting' if len(set(generated_text.split())) > 10 else 'Repetitive'}\")\n",
        "    print(f\"Contextual Relevance: {'Yes' if generated_text.startswith(seed_text) else 'No'}\")\n",
        "    print(f\"Diversity: {'High' if len(set(generated_text)) > 20 else 'Low'}\")\n",
        "\n",
        "evaluate_qualitative(generated_text)"
      ],
      "metadata": {
        "id": "cefglEoX29gv",
        "outputId": "16e33e72-bebb-4a55-d66b-4d23080370d5",
        "colab": {
          "base_uri": "https://localhost:8080/"
        }
      },
      "execution_count": null,
      "outputs": [
        {
          "output_type": "stream",
          "name": "stdout",
          "text": [
            "\n",
            "Qualitative Evaluation:\n",
            "Coherence and Grammar: Good\n",
            "Creativity: Repetitive\n",
            "Contextual Relevance: No\n",
            "Diversity: High\n"
          ]
        }
      ]
    },
    {
      "cell_type": "code",
      "source": [
        "# -----------------------------------------\n",
        "# Quantitative Evaluation\n",
        "# -----------------------------------------\n",
        "\n",
        "# 1. Perplexity Calculation\n",
        "def calculate_perplexity(model, text_sequence):\n",
        "    \"\"\"\n",
        "    Calculates perplexity based on model predictions.\n",
        "    \"\"\"\n",
        "    input_indices = [char2idx[char] for char in text_sequence.lower() if char in char2idx]\n",
        "    input_indices = np.array(input_indices)\n",
        "    input_indices = np.expand_dims(input_indices, axis=0)\n",
        "\n",
        "    predictions = model.predict(input_indices)[0]\n",
        "    perplexity = np.exp(np.mean(-np.log(predictions + 1e-10)))\n",
        "    return perplexity\n",
        "\n",
        "sample_text = seed_text + generated_text[:100]\n",
        "perplexity_score = calculate_perplexity(model, sample_text)\n",
        "print(\"\\nPerplexity Score:\", perplexity_score)\n",
        "\n",
        "# 2. BLEU Score Calculation\n",
        "def calculate_bleu(reference_text, generated_text):\n",
        "    \"\"\"\n",
        "    Calculates BLEU score for generated text against a reference text.\n",
        "    \"\"\"\n",
        "    reference = [reference_text.split()]\n",
        "    candidate = generated_text.split()\n",
        "    score = sentence_bleu(reference, candidate)\n",
        "    return score\n",
        "\n",
        "reference_text = \"Once upon a time, there was a princess who lived in a castle.\"\n",
        "bleu_score = calculate_bleu(reference_text, generated_text)\n",
        "print(\"BLEU Score:\", bleu_score)\n",
        "\n",
        "# 3. ROUGE Score Calculation\n",
        "def calculate_rouge(reference_text, generated_text):\n",
        "    \"\"\"\n",
        "    Calculates ROUGE score for generated text against a reference text.\n",
        "    \"\"\"\n",
        "    rouge = Rouge()\n",
        "    scores = rouge.get_scores(generated_text, reference_text)\n",
        "    return scores[0]\n",
        "\n",
        "rouge_scores = calculate_rouge(reference_text, generated_text)\n",
        "print(\"ROUGE Score:\", rouge_scores)\n",
        "\n",
        "# 4. Entropy and Repetition Metrics\n",
        "def calculate_entropy_and_repetition(text):\n",
        "    \"\"\"\n",
        "    Calculates entropy and repetition for a given text.\n",
        "    \"\"\"\n",
        "    # Calculate entropy\n",
        "    counts = Counter(text)\n",
        "    probs = [count / len(text) for count in counts.values()]\n",
        "    entropy = -sum([p * math.log2(p) for p in probs])\n",
        "\n",
        "    # Calculate repetition\n",
        "    unique_chars = len(set(text))\n",
        "    repetition = 1 - (unique_chars / len(text))\n",
        "\n",
        "    return entropy, repetition\n",
        "\n",
        "entropy_score, repetition_score = calculate_entropy_and_repetition(generated_text)\n",
        "print(\"Entropy Score:\", entropy_score)\n",
        "print(\"Repetition Score:\", repetition_score)"
      ],
      "metadata": {
        "id": "ix4CgRPH3SVB",
        "outputId": "588d8887-6bd8-4e9d-8042-570f96c3c6e9",
        "colab": {
          "base_uri": "https://localhost:8080/"
        }
      },
      "execution_count": null,
      "outputs": [
        {
          "output_type": "stream",
          "name": "stdout",
          "text": [
            "\u001b[1m1/1\u001b[0m \u001b[32m━━━━━━━━━━━━━━━━━━━━\u001b[0m\u001b[37m\u001b[0m \u001b[1m0s\u001b[0m 103ms/step\n",
            "\n",
            "Perplexity Score: 1289.072\n",
            "BLEU Score: 2.73371006502975e-78\n",
            "ROUGE Score: {'rouge-1': {'r': 0.2727272727272727, 'p': 0.2, 'f': 0.23076922588757406}, 'rouge-2': {'r': 0.16666666666666666, 'p': 0.14285714285714285, 'f': 0.1538461488757398}, 'rouge-l': {'r': 0.2727272727272727, 'p': 0.2, 'f': 0.23076922588757406}}\n",
            "Entropy Score: 5.294826840201269\n",
            "Repetition Score: 0.8679245283018868\n"
          ]
        },
        {
          "output_type": "stream",
          "name": "stderr",
          "text": [
            "C:\\Users\\sanja\\anaconda3\\Lib\\site-packages\\nltk\\translate\\bleu_score.py:577: UserWarning: \n",
            "The hypothesis contains 0 counts of 4-gram overlaps.\n",
            "Therefore the BLEU score evaluates to 0, independently of\n",
            "how many N-gram overlaps of lower order it contains.\n",
            "Consider using lower n-gram order or use SmoothingFunction()\n",
            "  warnings.warn(_msg)\n"
          ]
        }
      ]
    },
    {
      "cell_type": "markdown",
      "source": [
        "# Step 4"
      ],
      "metadata": {
        "id": "daklMQk7i2n8"
      }
    },
    {
      "cell_type": "markdown",
      "source": [
        "1. Experiment with different architectures (e.g., adding more layers, or trying other layer types).\n",
        " * Try deeper networks, different activation functions, or different layer configurations.\n",
        " * Example: Adding more LSTM layers or using GRU instead of LSTM.\n",
        "2. Apply regularization techniques (e.g., Use dropout to prevent overfitting).\n",
        "3. Use advanced text preprocessing.\n",
        " * Implement techniques like stemming, lemmatization, or BPE (Byte Pair Encoding) for\n",
        "better tokenization.\n",
        "4. Fine-tune hyperparameters (e.g., learning rate, batch size).\n",
        " * Experiment with different learning rates, batch sizes, and epochs.\n",
        " * Explain your approach for fine-tuning the hyper-parameters."
      ],
      "metadata": {
        "id": "NAmXTKKUVXWc"
      }
    },
    {
      "cell_type": "code",
      "source": [],
      "metadata": {
        "id": "Q58FY70Yi4Wn"
      },
      "execution_count": null,
      "outputs": []
    },
    {
      "cell_type": "markdown",
      "source": [
        "**GPT 2.0 fine tuned**\n",
        "\n",
        "Our initial experiments revealed that while the LSTM-based architecture is computationally intensive, it often yields suboptimal performance. To address these limitations in both efficiency and output quality, we propose an alternative approach.\n",
        "\n",
        "Specifically, we adopt a pre-trained language model. As demonstrated by Chung et al. (2020), pre-trained models significantly reduce training time and enhance the quality of generated text by leveraging representations learned from large-scale corpora. This allows for more effective fine-tuning on downstream tasks, even under constrained data and computational resources.\n",
        "\n",
        "Given our limited environment in terms of time and computational capacity, this strategy represents the most viable and effective solution.\n",
        "\n",
        "We fine-tuned gpt-2.0 model using cornel movie corpus data."
      ],
      "metadata": {
        "id": "FVW0eKL-TUNF"
      }
    },
    {
      "cell_type": "code",
      "source": [
        "# Install gpt 2.0 model\n",
        "!pip install gpt_2_simple"
      ],
      "metadata": {
        "id": "A9HQQensTrNt"
      },
      "execution_count": null,
      "outputs": []
    },
    {
      "cell_type": "code",
      "source": [
        "# Data preparation\n",
        "joined_text = \"\\n\".join(cleaned_dialogues)"
      ],
      "metadata": {
        "id": "QsHWXflGThcc"
      },
      "execution_count": null,
      "outputs": []
    },
    {
      "cell_type": "code",
      "source": [
        "# Organize dataset for fine-tuning\n",
        "with open(\"output.txt\", \"w\", encoding=\"utf-8\") as f:\n",
        "    f.write(joined_text)"
      ],
      "metadata": {
        "id": "cBak3zUDTtNe"
      },
      "execution_count": null,
      "outputs": []
    },
    {
      "cell_type": "code",
      "source": [
        "import gpt_2_simple as gpt2\n",
        "import tensorflow as tf\n",
        "gpt2.download_gpt2(model_name='124M')\n",
        "sess = gpt2.start_tf_sess()\n",
        "gpt2.finetune(sess,dataset='/content/output.txt'\n",
        "             ,model_name='124M'\n",
        "             ,steps=200\n",
        "             ,print_every=200\n",
        "             ,sample_every=100,\n",
        "              restore_from='fresh'\n",
        "\n",
        "             )"
      ],
      "metadata": {
        "id": "PWwxp4qhT2xP"
      },
      "execution_count": null,
      "outputs": []
    },
    {
      "cell_type": "markdown",
      "source": [
        "\n",
        "\n",
        "```\n",
        "Fetching checkpoint: 1.05Mit [00:00, 3.84Git/s]                                                     \n",
        "Fetching encoder.json: 1.05Mit [00:02, 519kit/s]\n",
        "Fetching hparams.json: 1.05Mit [00:00, 5.10Git/s]                                                   \n",
        "Fetching model.ckpt.data-00000-of-00001: 498Mit [02:56, 2.82Mit/s]\n",
        "Fetching model.ckpt.index: 1.05Mit [00:00, 3.27Git/s]                                               \n",
        "Fetching model.ckpt.meta: 1.05Mit [00:01, 878kit/s]\n",
        "Fetching vocab.bpe: 1.05Mit [00:01, 872kit/s]\n",
        "Loading checkpoint models/124M/model.ckpt\n",
        "Loading dataset...\n",
        "100%|██████████| 1/1 [00:15<00:00, 15.14s/it]\n",
        "dataset has 4667336 tokens\n",
        "Training...\n",
        "======== SAMPLE 1 ========\n",
        " a you're doing a goddamn thing right now, he's doing a goddamn thing. that's a fucking thing. that's just something to fucking get a feel yourself. that's not good, and he's still good enough to do it like,\n",
        "\n",
        "your dad is a fucking dope. the only thing i don't like is he's the only goddamn thing fucking nice about it.\n",
        "\n",
        "i didn't watch any of that kid play baseball. i was just getting started.\n",
        "\n",
        "i guess it's just you, or it just gets worse and worse.\n",
        "\n",
        "not that you don't like it.\n",
        "\n",
        "yeah, but you'd be the better coach. there's just no way you'd ever get that out of me, anyway. i can tell you who's better, my dad.\n",
        "\n",
        "hey, look!\n",
        "oh, you know, he's great!\n",
        "yeah, but you're too goddamn smart.\n",
        "you wouldn't. you'd call yourself the smartest person in the room.\n",
        "it was nice. i could see what was taking place.\n",
        "well, it's gotta be nice.\n",
        "you, uh, i don't know anyone like that. you want me to meet those guys?\n",
        "you gotta be super smart, you fucking idiot. you're gonna be better later, right? look, i can't wait for them to see my dad.\n",
        "you want to do that? you want to work on me, man?\n",
        "you really want to do that?\n",
        "i want to know. can you talk to me? i mean, can you? you're going to tell him i'm doing anything?\n",
        "he's gonna say, 'goodnight, man' then, like my daddy used to say, 'hey, look at this!'\n",
        "i'm never gonna go out here. you're gonna say something stupid.\n",
        "it's just a game. the other day, i was playing with this guy, so he was like, 'yeah, the same guy i told you to meet the next day. 'but all he wants is a little something.' and we had two games where he was just going down, yelling at me. and i just stood there, not talking to him. and no one would know who was in that fight. it was just him and me.\n",
        "i'd been thinking about this thing for days.\n",
        "just a game. it's like you're playing poker in my house. all we're gonna do is say, 'what happened to my dad?' 'uhm', man, you're going to say that a lot. you're going to make me look like some freak.\n",
        "i always think i understand something about that kid.\n",
        "no.\n",
        "no, but it's gotta be good. it's gotta be good.\n",
        "and then it was like, 'look, you know what i'm talking about, but then you start telling me things you shouldn't even do.\n",
        "oh, man, you're so fucking smart. you really know what i'm talking about with that kid.\n",
        "i mean, if you'd just come back and put me on my own as a wrestler, my dad would be the best coach in the world.\n",
        "i mean, come on, you wanna be good for your friends?\n",
        "not because you wanna stay there with your mom.\n",
        "no. but because you wanna be good for the people you live with.\n",
        "who doesn't want that?\n",
        "oh, my god. the guy's just trying to get that old school kid on his side, and that's what the whole thing's gonna look like.\n",
        "he had a fight and a fight and he's gonna be all over you.\n",
        "yeah.\n",
        "it was. my dad.\n",
        "he was a good wrestler. he fought big.\n",
        "yeah. he's just kinda good.\n",
        "it's like the ol' thing.\n",
        "yeah. all you have to do is get into that fight and you can stay away.\n",
        "that was great.\n",
        "i don't know.\n",
        "it was a good fight. great.\n",
        "yeah. that was great.\n",
        "he's playing poker. that's great.\n",
        "he's playing poker.\n",
        "that's great.\n",
        "oh, my god. that's great.\n",
        "oh yeah. that was great.\n",
        "oh yeah.\n",
        "it was really great.\n",
        "uhm. uhh mm. that's great. that's great.\n",
        "the guy was good. then. it's like the first one's gonna knock you out the first time.\n",
        "oh. yeah?\n",
        "okay?\n",
        "oh, he was.\n",
        "oh, he was...\n",
        "yes. he's...\n",
        "oh uhh mm. yay!\n",
        "oh, yeah. he's a good wrestler.\n",
        "i'm not going to talk to you about that. i'm going to give you a call, and you could do something.\n",
        "what? how you feeling?\n",
        "oh, yeah. he's the guy.\n",
        "you're gonna like him\n",
        "\n",
        "[200 | 496.52] loss=3.17 avg=3.17\n",
        "Saving checkpoint/run1/model-200\n",
        "```\n",
        "\n"
      ],
      "metadata": {
        "id": "tRwXMrdWT-QI"
      }
    },
    {
      "cell_type": "markdown",
      "source": [
        "\n",
        "\n",
        "*   Pick up one of the generated texts to see performance\n",
        "\n"
      ],
      "metadata": {
        "id": "keNMYeD9ZvB7"
      }
    },
    {
      "cell_type": "code",
      "source": [
        "# Qualitative evaluation\n",
        "seed_text = \"i'm not going\"\n",
        "evaluate_qualitative(\"i'm not going to talk to you about that. i'm going to give you a call, and you could do something.\")"
      ],
      "metadata": {
        "id": "HHJtVmP3T_GM"
      },
      "execution_count": null,
      "outputs": []
    },
    {
      "cell_type": "markdown",
      "source": [
        "```\n",
        "\n",
        "Qualitative Evaluation:\n",
        "Coherence and Grammar: Good\n",
        "Creativity: Interesting\n",
        "Contextual Relevance: Yes\n",
        "Diversity: High\n",
        "```\n",
        "\n"
      ],
      "metadata": {
        "id": "4aaqSbUMUXZM"
      }
    },
    {
      "cell_type": "code",
      "source": [
        "generated_text = \"i'm not going to talk to you about that. i'm going to give you a call, and you could do something.\"\n",
        "\n",
        "# 2. BLEU Score Calculation\n",
        "reference_text = \"i'm not going to talk about her anymore. i thought you'd appreciate that.\"\n",
        "bleu_score = calculate_bleu(reference_text, generated_text)\n",
        "print(\"BLEU Score:\", bleu_score)\n",
        "\n",
        "# 3. ROUGE Score Calculation\n",
        "rouge_scores = calculate_rouge(reference_text, generated_text)\n",
        "print(\"ROUGE Score:\", rouge_scores)\n",
        "\n",
        "# 4. Entropy and Repetition Metrics\n",
        "entropy_score, repetition_score = calculate_entropy_and_repetition(generated_text)\n",
        "print(\"Entropy Score:\", entropy_score)\n",
        "print(\"Repetition Score:\", repetition_score)"
      ],
      "metadata": {
        "id": "bKIdIz92UY4_"
      },
      "execution_count": null,
      "outputs": []
    },
    {
      "cell_type": "markdown",
      "source": [
        "```\n",
        "BLEU Score: 0.1849304691034943\n",
        "ROUGE Score: {'rouge-1': {'r': 0.5384615384615384, 'p': 0.4666666666666667, 'f': 0.4999999950255103}, 'rouge-2': {'r': 0.3333333333333333, 'p': 0.21052631578947367, 'f': 0.2580645113839751}, 'rouge-l': {'r': 0.5384615384615384, 'p': 0.4666666666666667, 'f': 0.4999999950255103}}\n",
        "Entropy Score: 3.909741765391666\n",
        "Repetition Score: 0.7755102040816326\n",
        "```\n",
        "\n"
      ],
      "metadata": {
        "id": "bvStvNIeUn_C"
      }
    },
    {
      "cell_type": "markdown",
      "source": [
        "**Result**\n",
        "\n",
        "*   Training time was dramatically decreased, LSTM model took from 60 seconds to 600 seconds per epoch, but this fine-tuning completed less than 5 minutes.\n",
        "*   Due to lack of reference texts, quantitative evaluation is poor, but gramaticaly, fine-tuned model's output is readable, and make it sence for human readers.\n",
        "\n"
      ],
      "metadata": {
        "id": "Zh64yh3MZ5ij"
      }
    }
  ]
}