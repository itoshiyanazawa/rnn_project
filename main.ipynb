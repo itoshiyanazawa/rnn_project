{
  "nbformat": 4,
  "nbformat_minor": 0,
  "metadata": {
    "colab": {
      "provenance": [],
      "toc_visible": true,
      "gpuType": "T4",
      "include_colab_link": true
    },
    "kernelspec": {
      "name": "python3",
      "display_name": "Python 3"
    },
    "language_info": {
      "name": "python"
    },
    "accelerator": "GPU"
  },
  "cells": [
    {
      "cell_type": "markdown",
      "metadata": {
        "id": "view-in-github",
        "colab_type": "text"
      },
      "source": [
        "<a href=\"https://colab.research.google.com/github/itoshiyanazawa/rnn_project/blob/main/main.ipynb\" target=\"_parent\"><img src=\"https://colab.research.google.com/assets/colab-badge.svg\" alt=\"Open In Colab\"/></a>"
      ]
    },
    {
      "cell_type": "markdown",
      "source": [
        "# Libraries"
      ],
      "metadata": {
        "id": "jdpJpXwdTlJ7"
      }
    },
    {
      "cell_type": "code",
      "source": [
        "import urllib.request\n",
        "import zipfile\n",
        "import os\n",
        "import tensorflow as tf\n",
        "from tensorflow.keras.models import Sequential\n",
        "from tensorflow.keras.layers import Embedding, LSTM, Dense\n",
        "import numpy as np\n",
        "from sklearn.model_selection import train_test_split"
      ],
      "metadata": {
        "id": "JpVe6Z9ETs-6"
      },
      "execution_count": 19,
      "outputs": []
    },
    {
      "cell_type": "markdown",
      "source": [
        "# Step 1"
      ],
      "metadata": {
        "id": "0agUriRGTlkf"
      }
    },
    {
      "cell_type": "markdown",
      "source": [
        "1. Collect the text dataset:\n",
        "  *   Download the text dataset from a reputable source or use a pre-existing one.\n",
        "\n",
        "2. Clean the text data:\n",
        "  *   Remove unwanted characters, punctuation, and formatting.\n",
        "  *  Convert all text to lowercase to reduce complexity.\n",
        "\n",
        "3. Tokenize the text:\n",
        "  *   Split the text into individual characters.\n",
        "  *   Create a vocabulary of unique tokens and map each token to an integer.\n",
        "\n",
        "4. Create input sequences:\n",
        "  *   Generate input sequences and corresponding targets for training.\n",
        "\n"
      ],
      "metadata": {
        "id": "326JLY1eUDEg"
      }
    },
    {
      "cell_type": "markdown",
      "source": [
        "Collecting the Movie Dialogues dataset from the Cornell University Website"
      ],
      "metadata": {
        "id": "dinGGf8mVE0I"
      }
    },
    {
      "cell_type": "code",
      "source": [
        "url = \"http://www.cs.cornell.edu/~cristian/data/cornell_movie_dialogs_corpus.zip\"\n",
        "file_name = \"cornell_movie_dialogs_corpus.zip\"\n",
        "\n",
        "# Download the dataset\n",
        "urllib.request.urlretrieve(url, file_name)\n",
        "\n",
        "# Extract the dataset\n",
        "with zipfile.ZipFile(file_name, 'r') as zip_ref:\n",
        "    zip_ref.extractall(\"cornell_data\")\n",
        "\n",
        "print(\"✅ Dataset downloaded and extracted.\")\n"
      ],
      "metadata": {
        "colab": {
          "base_uri": "https://localhost:8080/"
        },
        "id": "oVyLIsEVTvSa",
        "outputId": "099c0410-be7f-48a7-a090-acb5bab42dcb"
      },
      "execution_count": 20,
      "outputs": [
        {
          "output_type": "stream",
          "name": "stdout",
          "text": [
            "✅ Dataset downloaded and extracted.\n"
          ]
        }
      ]
    },
    {
      "cell_type": "markdown",
      "source": [
        "Cleaning the Text Data"
      ],
      "metadata": {
        "id": "fpUheOSSVBGb"
      }
    },
    {
      "cell_type": "code",
      "source": [
        "# Load dialogue lines\n",
        "with open(\"cornell_data/cornell movie-dialogs corpus/movie_lines.txt\", encoding='iso-8859-1') as f:\n",
        "    lines = f.readlines()\n",
        "\n",
        "# Extract the actual text (5th field) from each line\n",
        "dialogues = []\n",
        "for line in lines:\n",
        "    parts = line.split(\" +++$+++ \")\n",
        "    if len(parts) == 5:\n",
        "        dialogues.append(parts[-1].strip())\n",
        "\n",
        "# Clean the text\n",
        "import re\n",
        "\n",
        "def clean_text(text):\n",
        "    text = text.lower()  # lowercase\n",
        "    text = re.sub(r\"[^a-zA-Z0-9.,!?'\\n ]+\", ' ', text)  # remove special chars\n",
        "    text = re.sub(r'\\s+', ' ', text).strip()  # normalize spacing\n",
        "    return text\n",
        "\n",
        "cleaned_dialogues = [clean_text(line) for line in dialogues]\n",
        "\n",
        "# Combine into one long string\n",
        "full_text = ' '.join(cleaned_dialogues)\n",
        "\n",
        "print(\"🧹 Cleaned text preview:\\n\", full_text[:500])\n"
      ],
      "metadata": {
        "colab": {
          "base_uri": "https://localhost:8080/"
        },
        "id": "GW4UFF4KU-Wi",
        "outputId": "f8df906d-7534-489e-ad43-da131ca06eff"
      },
      "execution_count": 21,
      "outputs": [
        {
          "output_type": "stream",
          "name": "stdout",
          "text": [
            "🧹 Cleaned text preview:\n",
            " they do not! they do to! i hope so. she okay? let's go. wow okay you're gonna need to learn how to lie. no i'm kidding. you know how sometimes you just become this persona ? and you don't know how to quit? like my fear of wearing pastels? the real you . what good stuff? i figured you'd get to the good stuff eventually. thank god! if i had to hear one more story about your coiffure... me. this endless ...blonde babble. i'm like, boring myself. what crap? do you listen to this crap? no... then gui\n"
          ]
        }
      ]
    },
    {
      "cell_type": "markdown",
      "source": [
        "Tokenize the text"
      ],
      "metadata": {
        "id": "EDhAGZojVq6R"
      }
    },
    {
      "cell_type": "code",
      "source": [
        "# Character-level tokenization\n",
        "chars = sorted(set(full_text))  # unique characters\n",
        "char2idx = {ch: idx for idx, ch in enumerate(chars)}  # map char to index\n",
        "idx2char = {idx: ch for ch, idx in char2idx.items()}  # map index to char\n",
        "\n",
        "# Convert all text to a sequence of integers\n",
        "text_as_int = [char2idx[c] for c in full_text]\n",
        "\n",
        "print(\"🧠 Total characters:\", len(full_text))\n",
        "print(\"🔤 Vocabulary size:\", len(chars))\n",
        "print(\"Sample encoding:\", text_as_int[:20])"
      ],
      "metadata": {
        "colab": {
          "base_uri": "https://localhost:8080/"
        },
        "id": "VqrcrOjUVtr_",
        "outputId": "89bbd882-6eff-4a14-8725-beadbc3d1387"
      },
      "execution_count": 22,
      "outputs": [
        {
          "output_type": "stream",
          "name": "stdout",
          "text": [
            "🧠 Total characters: 16940151\n",
            "🔤 Vocabulary size: 42\n",
            "Sample encoding: [35, 23, 20, 40, 0, 19, 30, 0, 29, 30, 35, 1, 0, 35, 23, 20, 40, 0, 19, 30]\n"
          ]
        }
      ]
    },
    {
      "cell_type": "markdown",
      "source": [
        "Generate input sequences and corresponding targets for training"
      ],
      "metadata": {
        "id": "AV8TXH4NV-GS"
      }
    },
    {
      "cell_type": "code",
      "source": [
        "# Define sequence length\n",
        "seq_length = 100\n",
        "\n",
        "# Convert list to NumPy array for faster slicing\n",
        "text_as_int = np.array(text_as_int)\n",
        "\n",
        "# Calculate number of sequences\n",
        "num_sequences = len(text_as_int) - seq_length\n",
        "\n",
        "# Create input sequences and targets using vectorized slicing\n",
        "sequences = np.array([text_as_int[i:i+seq_length] for i in range(num_sequences)])\n",
        "targets = text_as_int[seq_length:]  # targets are simply shifted by one position\n",
        "\n",
        "print(\"✅ Total sequences created:\", len(sequences))\n",
        "print(\"Sample input:\", sequences[0])\n",
        "print(\"Sample target:\", targets[0])"
      ],
      "metadata": {
        "colab": {
          "base_uri": "https://localhost:8080/"
        },
        "id": "7OndtXT6V_Tw",
        "outputId": "e8ea1247-1289-477e-e0de-b87232faca30"
      },
      "execution_count": 23,
      "outputs": [
        {
          "output_type": "stream",
          "name": "stdout",
          "text": [
            "✅ Total sequences created: 16940051\n",
            "Sample input: [35 23 20 40  0 19 30  0 29 30 35  1  0 35 23 20 40  0 19 30  0 35 30  1\n",
            "  0 24  0 23 30 31 20  0 34 30  4  0 34 23 20  0 30 26 16 40 15  0 27 20\n",
            " 35  2 34  0 22 30  4  0 38 30 38  0 30 26 16 40  0 40 30 36  2 33 20  0\n",
            " 22 30 29 29 16  0 29 20 20 19  0 35 30  0 27 20 16 33 29  0 23 30 38  0\n",
            " 35 30  0 27]\n",
            "Sample target: 24\n"
          ]
        }
      ]
    },
    {
      "cell_type": "markdown",
      "source": [
        "# Step 2"
      ],
      "metadata": {
        "id": "z25LiasFTvqM"
      }
    },
    {
      "cell_type": "markdown",
      "source": [
        "1. Define the RNN architecture (e.g. using Tensorflow or PyTorch).\n",
        "2. Explain the type of layers you are including and why (layers such as Embedding, LSTM, and Linear)\n",
        "3. Visualize your RNN architecture\n",
        "4. Compile the model with appropriate loss function and optimizer. Explain your choice of loos function and optimizer.\n",
        "5. Prepare data for training by converting sequences and targets into batches.\n",
        "6. Train the model on the training data and validate it on the validation set.\n",
        "7. Visualize the training process using both training and validation results.\n"
      ],
      "metadata": {
        "id": "xuHtPOF2i57S"
      }
    },
    {
      "cell_type": "markdown",
      "source": [
        "Defining the RNN Architecture"
      ],
      "metadata": {
        "id": "3j4wq9cZjnkV"
      }
    },
    {
      "cell_type": "code",
      "source": [
        "vocab_size = len(char2idx)\n",
        "sequence_length = 100\n",
        "\n",
        "model = Sequential([\n",
        "    Embedding(input_dim=vocab_size, output_dim=64, input_length=sequence_length),\n",
        "    LSTM(128, return_sequences=False),\n",
        "    Dense(vocab_size, activation='softmax')\n",
        "])\n",
        "model.build(input_shape=(None, sequence_length))"
      ],
      "metadata": {
        "id": "RSGRDzyaTyoT"
      },
      "execution_count": 24,
      "outputs": []
    },
    {
      "cell_type": "markdown",
      "source": [
        "**Layer Breakdown**:\n",
        "- `Embedding`: Converts integer indices into dense 64-dimensional vectors. This helps the model learn semantic relationships between characters.\n",
        "- `LSTM`: Long Short-Term Memory layer with 128 units, captures temporal dependencies and handles vanishing gradient issues better than simple RNNs.\n",
        "- `Dense`: Fully connected output layer with `softmax` activation, outputs probabilities across the vocabulary to predict the next character.\n"
      ],
      "metadata": {
        "id": "YLVpdZWAmNlH"
      }
    },
    {
      "cell_type": "markdown",
      "source": [
        "Visualizing the Model"
      ],
      "metadata": {
        "id": "ZObyTrUCnYx1"
      }
    },
    {
      "cell_type": "code",
      "source": [
        "model.summary()"
      ],
      "metadata": {
        "colab": {
          "base_uri": "https://localhost:8080/",
          "height": 225
        },
        "id": "IVXDHhpdmVSD",
        "outputId": "0e446d50-d006-47b4-e6c5-4807e8056379"
      },
      "execution_count": 25,
      "outputs": [
        {
          "output_type": "display_data",
          "data": {
            "text/plain": [
              "\u001b[1mModel: \"sequential_1\"\u001b[0m\n"
            ],
            "text/html": [
              "<pre style=\"white-space:pre;overflow-x:auto;line-height:normal;font-family:Menlo,'DejaVu Sans Mono',consolas,'Courier New',monospace\"><span style=\"font-weight: bold\">Model: \"sequential_1\"</span>\n",
              "</pre>\n"
            ]
          },
          "metadata": {}
        },
        {
          "output_type": "display_data",
          "data": {
            "text/plain": [
              "┏━━━━━━━━━━━━━━━━━━━━━━━━━━━━━━━━━━━━━━┳━━━━━━━━━━━━━━━━━━━━━━━━━━━━━┳━━━━━━━━━━━━━━━━━┓\n",
              "┃\u001b[1m \u001b[0m\u001b[1mLayer (type)                        \u001b[0m\u001b[1m \u001b[0m┃\u001b[1m \u001b[0m\u001b[1mOutput Shape               \u001b[0m\u001b[1m \u001b[0m┃\u001b[1m \u001b[0m\u001b[1m        Param #\u001b[0m\u001b[1m \u001b[0m┃\n",
              "┡━━━━━━━━━━━━━━━━━━━━━━━━━━━━━━━━━━━━━━╇━━━━━━━━━━━━━━━━━━━━━━━━━━━━━╇━━━━━━━━━━━━━━━━━┩\n",
              "│ embedding_1 (\u001b[38;5;33mEmbedding\u001b[0m)              │ (\u001b[38;5;45mNone\u001b[0m, \u001b[38;5;34m100\u001b[0m, \u001b[38;5;34m64\u001b[0m)             │           \u001b[38;5;34m2,688\u001b[0m │\n",
              "├──────────────────────────────────────┼─────────────────────────────┼─────────────────┤\n",
              "│ lstm_1 (\u001b[38;5;33mLSTM\u001b[0m)                        │ (\u001b[38;5;45mNone\u001b[0m, \u001b[38;5;34m128\u001b[0m)                 │          \u001b[38;5;34m98,816\u001b[0m │\n",
              "├──────────────────────────────────────┼─────────────────────────────┼─────────────────┤\n",
              "│ dense_1 (\u001b[38;5;33mDense\u001b[0m)                      │ (\u001b[38;5;45mNone\u001b[0m, \u001b[38;5;34m42\u001b[0m)                  │           \u001b[38;5;34m5,418\u001b[0m │\n",
              "└──────────────────────────────────────┴─────────────────────────────┴─────────────────┘\n"
            ],
            "text/html": [
              "<pre style=\"white-space:pre;overflow-x:auto;line-height:normal;font-family:Menlo,'DejaVu Sans Mono',consolas,'Courier New',monospace\">┏━━━━━━━━━━━━━━━━━━━━━━━━━━━━━━━━━━━━━━┳━━━━━━━━━━━━━━━━━━━━━━━━━━━━━┳━━━━━━━━━━━━━━━━━┓\n",
              "┃<span style=\"font-weight: bold\"> Layer (type)                         </span>┃<span style=\"font-weight: bold\"> Output Shape                </span>┃<span style=\"font-weight: bold\">         Param # </span>┃\n",
              "┡━━━━━━━━━━━━━━━━━━━━━━━━━━━━━━━━━━━━━━╇━━━━━━━━━━━━━━━━━━━━━━━━━━━━━╇━━━━━━━━━━━━━━━━━┩\n",
              "│ embedding_1 (<span style=\"color: #0087ff; text-decoration-color: #0087ff\">Embedding</span>)              │ (<span style=\"color: #00d7ff; text-decoration-color: #00d7ff\">None</span>, <span style=\"color: #00af00; text-decoration-color: #00af00\">100</span>, <span style=\"color: #00af00; text-decoration-color: #00af00\">64</span>)             │           <span style=\"color: #00af00; text-decoration-color: #00af00\">2,688</span> │\n",
              "├──────────────────────────────────────┼─────────────────────────────┼─────────────────┤\n",
              "│ lstm_1 (<span style=\"color: #0087ff; text-decoration-color: #0087ff\">LSTM</span>)                        │ (<span style=\"color: #00d7ff; text-decoration-color: #00d7ff\">None</span>, <span style=\"color: #00af00; text-decoration-color: #00af00\">128</span>)                 │          <span style=\"color: #00af00; text-decoration-color: #00af00\">98,816</span> │\n",
              "├──────────────────────────────────────┼─────────────────────────────┼─────────────────┤\n",
              "│ dense_1 (<span style=\"color: #0087ff; text-decoration-color: #0087ff\">Dense</span>)                      │ (<span style=\"color: #00d7ff; text-decoration-color: #00d7ff\">None</span>, <span style=\"color: #00af00; text-decoration-color: #00af00\">42</span>)                  │           <span style=\"color: #00af00; text-decoration-color: #00af00\">5,418</span> │\n",
              "└──────────────────────────────────────┴─────────────────────────────┴─────────────────┘\n",
              "</pre>\n"
            ]
          },
          "metadata": {}
        },
        {
          "output_type": "display_data",
          "data": {
            "text/plain": [
              "\u001b[1m Total params: \u001b[0m\u001b[38;5;34m106,922\u001b[0m (417.66 KB)\n"
            ],
            "text/html": [
              "<pre style=\"white-space:pre;overflow-x:auto;line-height:normal;font-family:Menlo,'DejaVu Sans Mono',consolas,'Courier New',monospace\"><span style=\"font-weight: bold\"> Total params: </span><span style=\"color: #00af00; text-decoration-color: #00af00\">106,922</span> (417.66 KB)\n",
              "</pre>\n"
            ]
          },
          "metadata": {}
        },
        {
          "output_type": "display_data",
          "data": {
            "text/plain": [
              "\u001b[1m Trainable params: \u001b[0m\u001b[38;5;34m106,922\u001b[0m (417.66 KB)\n"
            ],
            "text/html": [
              "<pre style=\"white-space:pre;overflow-x:auto;line-height:normal;font-family:Menlo,'DejaVu Sans Mono',consolas,'Courier New',monospace\"><span style=\"font-weight: bold\"> Trainable params: </span><span style=\"color: #00af00; text-decoration-color: #00af00\">106,922</span> (417.66 KB)\n",
              "</pre>\n"
            ]
          },
          "metadata": {}
        },
        {
          "output_type": "display_data",
          "data": {
            "text/plain": [
              "\u001b[1m Non-trainable params: \u001b[0m\u001b[38;5;34m0\u001b[0m (0.00 B)\n"
            ],
            "text/html": [
              "<pre style=\"white-space:pre;overflow-x:auto;line-height:normal;font-family:Menlo,'DejaVu Sans Mono',consolas,'Courier New',monospace\"><span style=\"font-weight: bold\"> Non-trainable params: </span><span style=\"color: #00af00; text-decoration-color: #00af00\">0</span> (0.00 B)\n",
              "</pre>\n"
            ]
          },
          "metadata": {}
        }
      ]
    },
    {
      "cell_type": "markdown",
      "source": [
        "Compiling the model with appropriate loss function and optimizer.\n",
        "**Loss Function**:\n",
        "- We use `sparse_categorical_crossentropy` because the target output is a single integer (not one-hot encoded).\n",
        "\n",
        "**Optimizer**:\n",
        "- `Adam` is used for its adaptive learning rate, helping the model converge faster and more reliably during training.\n"
      ],
      "metadata": {
        "id": "K6cnqCUGnbb7"
      }
    },
    {
      "cell_type": "code",
      "source": [
        "model.compile(\n",
        "    loss='sparse_categorical_crossentropy',\n",
        "    optimizer='adam',\n",
        "    metrics=['accuracy']\n",
        ")"
      ],
      "metadata": {
        "id": "-rUUOQnrnn4V"
      },
      "execution_count": 26,
      "outputs": []
    },
    {
      "cell_type": "markdown",
      "source": [
        "Prepare data for training"
      ],
      "metadata": {
        "id": "xPE4L3xjnxiD"
      }
    },
    {
      "cell_type": "code",
      "source": [
        "# Step 1: Reduce data if necessary (optional sampling)\n",
        "max_examples = 100000  # You can tune this down if needed\n",
        "sequences = sequences[:max_examples]\n",
        "targets = targets[:max_examples]\n",
        "\n",
        "# Step 2: Convert to tf.data.Dataset\n",
        "dataset = tf.data.Dataset.from_tensor_slices((sequences, targets))\n",
        "\n",
        "# Step 3: Shuffle and split into train/validation\n",
        "buffer_size = len(sequences)\n",
        "batch_size = 128\n",
        "\n",
        "# Shuffle and batch\n",
        "train_size = int(0.9 * buffer_size)\n",
        "val_size = buffer_size - train_size\n",
        "\n",
        "train_dataset = dataset.take(train_size).shuffle(buffer_size).batch(batch_size, drop_remainder=True)\n",
        "val_dataset = dataset.skip(train_size).batch(batch_size, drop_remainder=True)\n",
        "\n",
        "print(\"✅ Train batches:\", len(train_dataset))\n",
        "print(\"✅ Validation batches:\", len(val_dataset))"
      ],
      "metadata": {
        "colab": {
          "base_uri": "https://localhost:8080/"
        },
        "id": "SFGR6344nyVa",
        "outputId": "1298d123-4c9e-4ef6-9e9c-09c0c0b298a3"
      },
      "execution_count": 27,
      "outputs": [
        {
          "output_type": "stream",
          "name": "stdout",
          "text": [
            "✅ Train batches: 703\n",
            "✅ Validation batches: 78\n"
          ]
        }
      ]
    },
    {
      "cell_type": "markdown",
      "source": [
        "Training the Model"
      ],
      "metadata": {
        "id": "pkZ1pxxVqlmm"
      }
    },
    {
      "cell_type": "code",
      "source": [
        "history = model.fit(\n",
        "    train_dataset,\n",
        "    epochs=10,\n",
        "    validation_data=val_dataset\n",
        ")"
      ],
      "metadata": {
        "id": "btQOItnDqknN",
        "outputId": "0089fe14-35f4-4b94-c442-606252840ec6",
        "colab": {
          "base_uri": "https://localhost:8080/"
        }
      },
      "execution_count": 28,
      "outputs": [
        {
          "output_type": "stream",
          "name": "stdout",
          "text": [
            "Epoch 1/10\n",
            "\u001b[1m703/703\u001b[0m \u001b[32m━━━━━━━━━━━━━━━━━━━━\u001b[0m\u001b[37m\u001b[0m \u001b[1m233s\u001b[0m 324ms/step - accuracy: 0.2516 - loss: 2.7399 - val_accuracy: 0.3554 - val_loss: 2.1914\n",
            "Epoch 2/10\n",
            "\u001b[1m703/703\u001b[0m \u001b[32m━━━━━━━━━━━━━━━━━━━━\u001b[0m\u001b[37m\u001b[0m \u001b[1m277s\u001b[0m 345ms/step - accuracy: 0.3741 - loss: 2.1312 - val_accuracy: 0.4096 - val_loss: 2.0119\n",
            "Epoch 3/10\n",
            "\u001b[1m703/703\u001b[0m \u001b[32m━━━━━━━━━━━━━━━━━━━━\u001b[0m\u001b[37m\u001b[0m \u001b[1m268s\u001b[0m 354ms/step - accuracy: 0.4167 - loss: 1.9768 - val_accuracy: 0.4365 - val_loss: 1.9060\n",
            "Epoch 4/10\n",
            "\u001b[1m703/703\u001b[0m \u001b[32m━━━━━━━━━━━━━━━━━━━━\u001b[0m\u001b[37m\u001b[0m \u001b[1m275s\u001b[0m 373ms/step - accuracy: 0.4466 - loss: 1.8666 - val_accuracy: 0.4510 - val_loss: 1.8312\n",
            "Epoch 5/10\n",
            "\u001b[1m703/703\u001b[0m \u001b[32m━━━━━━━━━━━━━━━━━━━━\u001b[0m\u001b[37m\u001b[0m \u001b[1m311s\u001b[0m 357ms/step - accuracy: 0.4640 - loss: 1.7952 - val_accuracy: 0.4663 - val_loss: 1.7767\n",
            "Epoch 6/10\n",
            "\u001b[1m703/703\u001b[0m \u001b[32m━━━━━━━━━━━━━━━━━━━━\u001b[0m\u001b[37m\u001b[0m \u001b[1m262s\u001b[0m 372ms/step - accuracy: 0.4805 - loss: 1.7275 - val_accuracy: 0.4774 - val_loss: 1.7301\n",
            "Epoch 7/10\n",
            "\u001b[1m703/703\u001b[0m \u001b[32m━━━━━━━━━━━━━━━━━━━━\u001b[0m\u001b[37m\u001b[0m \u001b[1m239s\u001b[0m 338ms/step - accuracy: 0.4907 - loss: 1.6800 - val_accuracy: 0.4819 - val_loss: 1.7038\n",
            "Epoch 8/10\n",
            "\u001b[1m703/703\u001b[0m \u001b[32m━━━━━━━━━━━━━━━━━━━━\u001b[0m\u001b[37m\u001b[0m \u001b[1m249s\u001b[0m 320ms/step - accuracy: 0.5000 - loss: 1.6448 - val_accuracy: 0.4928 - val_loss: 1.6638\n",
            "Epoch 9/10\n",
            "\u001b[1m703/703\u001b[0m \u001b[32m━━━━━━━━━━━━━━━━━━━━\u001b[0m\u001b[37m\u001b[0m \u001b[1m231s\u001b[0m 328ms/step - accuracy: 0.5135 - loss: 1.6013 - val_accuracy: 0.4977 - val_loss: 1.6502\n",
            "Epoch 10/10\n",
            "\u001b[1m703/703\u001b[0m \u001b[32m━━━━━━━━━━━━━━━━━━━━\u001b[0m\u001b[37m\u001b[0m \u001b[1m239s\u001b[0m 340ms/step - accuracy: 0.5195 - loss: 1.5714 - val_accuracy: 0.5046 - val_loss: 1.6292\n"
          ]
        }
      ]
    },
    {
      "cell_type": "markdown",
      "source": [
        "Visualizing Model Accuracy and Loss"
      ],
      "metadata": {
        "id": "tNHP0OzDqpgh"
      }
    },
    {
      "cell_type": "code",
      "source": [
        "import matplotlib.pyplot as plt\n",
        "\n",
        "history_dict = history.history\n",
        "\n",
        "# Accuracy plot\n",
        "plt.figure(figsize=(12, 5))\n",
        "\n",
        "plt.subplot(1, 2, 1)\n",
        "plt.plot(history_dict['accuracy'], label='Training Accuracy', marker='o')\n",
        "plt.plot(history_dict['val_accuracy'], label='Validation Accuracy', marker='s')\n",
        "plt.title('Model Accuracy Over Epochs')\n",
        "plt.xlabel('Epoch')\n",
        "plt.ylabel('Accuracy')\n",
        "plt.legend()\n",
        "plt.grid(True)\n",
        "\n",
        "# Loss plot\n",
        "plt.subplot(1, 2, 2)\n",
        "plt.plot(history_dict['loss'], label='Training Loss', marker='o')\n",
        "plt.plot(history_dict['val_loss'], label='Validation Loss', marker='s')\n",
        "plt.title('Model Loss Over Epochs')\n",
        "plt.xlabel('Epoch')\n",
        "plt.ylabel('Loss')\n",
        "plt.legend()\n",
        "plt.grid(True)\n",
        "\n",
        "plt.tight_layout()\n",
        "plt.show()"
      ],
      "metadata": {
        "id": "XMwCjBpSqxgO",
        "outputId": "5c1fc800-dc8f-4d30-9877-23ba8e67829f",
        "colab": {
          "base_uri": "https://localhost:8080/",
          "height": 476
        }
      },
      "execution_count": 30,
      "outputs": [
        {
          "output_type": "display_data",
          "data": {
            "text/plain": [
              "<Figure size 1200x500 with 2 Axes>"
            ],
            "image/png": "[encoded data removed]"
          },
          "metadata": {}
        }
      ]
    },
    {
      "cell_type": "markdown",
      "source": [
        "# Step 3"
      ],
      "metadata": {
        "id": "z1gcJ_mRTzj3"
      }
    },
    {
      "cell_type": "markdown",
      "source": [
        "1. Create a function to generate text by sampling from the model's predictions.\n",
        "\n",
        "Qualitative Evaluation:\n",
        "\n",
        "2. Coherence and Grammar: Check if the generated text is grammatically correct and coherent.\n",
        "\n",
        "3. Creativity: Evaluate if the generated text is creative and interesting.\n",
        "\n",
        "4. Contextual Relevance: Assess whether the generated text maintains context and follows logically from the seed text.\n",
        "\n",
        "5. Diversity: Ensure that the model does not repeat itself excessively and generates diverse outputs.\n",
        "\n",
        "Quantitative Evaluation:\n",
        "\n",
        "6. Perplexity: A common metric for evaluating language models. Perplexity measures how well the model predicts the next token in a sequence. Lower perplexity indicates better performance.\n",
        "\n",
        "7. BLEU Score: Used to evaluate the quality of text that has been machine-translated from one language to another. It can be adapted to measure the overlap between generated text and reference text.\n",
        "\n",
        "8. ROUGE Score: Commonly used for evaluating summarization and translation models. It measures the overlap of n-grams between the generated text and a reference text.\n",
        "\n",
        "9. Entropy and Repetition Metrics: Measure the diversity of the generated text. High entropy and low repetition indicate diverse and less repetitive outputs.\n",
        "\n",
        "\n"
      ],
      "metadata": {
        "id": "EKEPJXYFU1qB"
      }
    },
    {
      "cell_type": "code",
      "source": [],
      "metadata": {
        "id": "kJr6ZNvCT1Om"
      },
      "execution_count": 29,
      "outputs": []
    },
    {
      "cell_type": "markdown",
      "source": [
        "# Step 4"
      ],
      "metadata": {
        "id": "daklMQk7i2n8"
      }
    },
    {
      "cell_type": "markdown",
      "source": [
        "1. Experiment with different architectures (e.g., adding more layers, or trying other layer types).\n",
        " * Try deeper networks, different activation functions, or different layer configurations.\n",
        " * Example: Adding more LSTM layers or using GRU instead of LSTM.\n",
        "2. Apply regularization techniques (e.g., Use dropout to prevent overfitting).\n",
        "3. Use advanced text preprocessing.\n",
        " * Implement techniques like stemming, lemmatization, or BPE (Byte Pair Encoding) for\n",
        "better tokenization.\n",
        "4. Fine-tune hyperparameters (e.g., learning rate, batch size).\n",
        " * Experiment with different learning rates, batch sizes, and epochs.\n",
        " * Explain your approach for fine-tuning the hyper-parameters."
      ],
      "metadata": {
        "id": "NAmXTKKUVXWc"
      }
    },
    {
      "cell_type": "code",
      "source": [],
      "metadata": {
        "id": "Q58FY70Yi4Wn"
      },
      "execution_count": 29,
      "outputs": []
    }
  ]
}