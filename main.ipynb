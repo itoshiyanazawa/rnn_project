{
  "nbformat": 4,
  "nbformat_minor": 0,
  "metadata": {
    "colab": {
      "provenance": [],
      "gpuType": "T4",
      "include_colab_link": true
    },
    "kernelspec": {
      "name": "python3",
      "display_name": "Python 3"
    },
    "language_info": {
      "name": "python"
    },
    "accelerator": "GPU"
  },
  "cells": [
    {
      "cell_type": "markdown",
      "metadata": {
        "id": "view-in-github",
        "colab_type": "text"
      },
      "source": [
        "<a href=\"https://colab.research.google.com/github/itoshiyanazawa/rnn_project/blob/itoshi_works/main.ipynb\" target=\"_parent\"><img src=\"https://colab.research.google.com/assets/colab-badge.svg\" alt=\"Open In Colab\"/></a>"
      ]
    },
    {
      "cell_type": "markdown",
      "source": [
        "# Libraries"
      ],
      "metadata": {
        "id": "jdpJpXwdTlJ7"
      }
    },
    {
      "cell_type": "code",
      "source": [
        "!pip install rouge\n",
        "!pip install visualkeras"
      ],
      "metadata": {
        "id": "FT5MCHrc3ZjM",
        "outputId": "26864d14-92e6-4991-c373-2ef121a429b4",
        "colab": {
          "base_uri": "https://localhost:8080/"
        }
      },
      "execution_count": 4,
      "outputs": [
        {
          "output_type": "stream",
          "name": "stdout",
          "text": [
            "Requirement already satisfied: rouge in /usr/local/lib/python3.11/dist-packages (1.0.1)\n",
            "Requirement already satisfied: six in /usr/local/lib/python3.11/dist-packages (from rouge) (1.17.0)\n",
            "Collecting visualkeras\n",
            "  Downloading visualkeras-0.1.4-py3-none-any.whl.metadata (11 kB)\n",
            "Requirement already satisfied: pillow>=6.2.0 in /usr/local/lib/python3.11/dist-packages (from visualkeras) (11.2.1)\n",
            "Requirement already satisfied: numpy>=1.18.1 in /usr/local/lib/python3.11/dist-packages (from visualkeras) (2.0.2)\n",
            "Collecting aggdraw>=1.3.11 (from visualkeras)\n",
            "  Downloading aggdraw-1.3.19-cp311-cp311-manylinux_2_17_x86_64.manylinux2014_x86_64.whl.metadata (655 bytes)\n",
            "Downloading visualkeras-0.1.4-py3-none-any.whl (17 kB)\n",
            "Downloading aggdraw-1.3.19-cp311-cp311-manylinux_2_17_x86_64.manylinux2014_x86_64.whl (997 kB)\n",
            "\u001b[2K   \u001b[90m━━━━━━━━━━━━━━━━━━━━━━━━━━━━━━━━━━━━━━━━\u001b[0m \u001b[32m997.4/997.4 kB\u001b[0m \u001b[31m19.4 MB/s\u001b[0m eta \u001b[36m0:00:00\u001b[0m\n",
            "\u001b[?25hInstalling collected packages: aggdraw, visualkeras\n",
            "Successfully installed aggdraw-1.3.19 visualkeras-0.1.4\n"
          ]
        }
      ]
    },
    {
      "cell_type": "code",
      "source": [
        "import urllib.request\n",
        "import zipfile\n",
        "import os\n",
        "import tensorflow as tf\n",
        "from tensorflow.keras.models import Sequential\n",
        "from tensorflow.keras.layers import Embedding, LSTM, Dense\n",
        "import numpy as np\n",
        "from sklearn.model_selection import train_test_split\n",
        "import matplotlib.pyplot as plt\n",
        "from tensorflow.keras.callbacks import EarlyStopping, ModelCheckpoint\n",
        "from tensorflow.keras.callbacks import ReduceLROnPlateau\n",
        "from tensorflow.keras.layers import Dropout\n",
        "from nltk.translate.bleu_score import sentence_bleu\n",
        "from rouge import Rouge\n",
        "from collections import Counter\n",
        "import math\n",
        "import visualkeras"
      ],
      "metadata": {
        "id": "JpVe6Z9ETs-6"
      },
      "execution_count": 5,
      "outputs": []
    },
    {
      "cell_type": "markdown",
      "source": [
        "# Step 1"
      ],
      "metadata": {
        "id": "0agUriRGTlkf"
      }
    },
    {
      "cell_type": "markdown",
      "source": [
        "1. Collect the text dataset:\n",
        "  *   Download the text dataset from a reputable source or use a pre-existing one.\n",
        "\n",
        "2. Clean the text data:\n",
        "  *   Remove unwanted characters, punctuation, and formatting.\n",
        "  *  Convert all text to lowercase to reduce complexity.\n",
        "\n",
        "3. Tokenize the text:\n",
        "  *   Split the text into individual characters.\n",
        "  *   Create a vocabulary of unique tokens and map each token to an integer.\n",
        "\n",
        "4. Create input sequences:\n",
        "  *   Generate input sequences and corresponding targets for training.\n",
        "\n"
      ],
      "metadata": {
        "id": "326JLY1eUDEg"
      }
    },
    {
      "cell_type": "markdown",
      "source": [
        "Collecting the Movie Dialogues dataset from the Cornell University Website"
      ],
      "metadata": {
        "id": "dinGGf8mVE0I"
      }
    },
    {
      "cell_type": "code",
      "source": [
        "url = \"http://www.cs.cornell.edu/~cristian/data/cornell_movie_dialogs_corpus.zip\"\n",
        "file_name = \"cornell_movie_dialogs_corpus.zip\"\n",
        "\n",
        "# Download the dataset\n",
        "urllib.request.urlretrieve(url, file_name)\n",
        "\n",
        "# Extract the dataset\n",
        "with zipfile.ZipFile(file_name, 'r') as zip_ref:\n",
        "    zip_ref.extractall(\"cornell_data\")\n",
        "\n",
        "print(\"✅ Dataset downloaded and extracted.\")\n"
      ],
      "metadata": {
        "colab": {
          "base_uri": "https://localhost:8080/"
        },
        "id": "oVyLIsEVTvSa",
        "outputId": "560eefd0-a9c5-4558-c43b-fc3ef87f33c3"
      },
      "execution_count": 8,
      "outputs": [
        {
          "output_type": "stream",
          "name": "stdout",
          "text": [
            "✅ Dataset downloaded and extracted.\n"
          ]
        }
      ]
    },
    {
      "cell_type": "markdown",
      "source": [
        "Cleaning the Text Data"
      ],
      "metadata": {
        "id": "fpUheOSSVBGb"
      }
    },
    {
      "cell_type": "code",
      "source": [
        "# Load dialogue lines\n",
        "with open(\"cornell_data/cornell movie-dialogs corpus/movie_lines.txt\", encoding='iso-8859-1') as f:\n",
        "    lines = f.readlines()\n",
        "\n",
        "# Extract the actual text (5th field) from each line\n",
        "dialogues = []\n",
        "for line in lines:\n",
        "    parts = line.split(\" +++$+++ \")\n",
        "    if len(parts) == 5:\n",
        "        dialogues.append(parts[-1].strip())\n",
        "\n",
        "# Clean the text\n",
        "import re\n",
        "\n",
        "def clean_text(text):\n",
        "    text = text.lower()  # lowercase\n",
        "    text = re.sub(r\"[^a-zA-Z0-9.,!?'\\n ]+\", ' ', text)  # remove special chars\n",
        "    text = re.sub(r'\\s+', ' ', text).strip()  # normalize spacing\n",
        "    return text\n",
        "\n",
        "cleaned_dialogues = [clean_text(line) for line in dialogues]\n",
        "\n",
        "# Combine into one long string\n",
        "full_text = ' '.join(cleaned_dialogues)\n",
        "\n",
        "print(\"🧹 Cleaned text preview:\\n\", full_text[:500])\n"
      ],
      "metadata": {
        "colab": {
          "base_uri": "https://localhost:8080/"
        },
        "id": "GW4UFF4KU-Wi",
        "outputId": "d8710d21-2284-4eb9-c6fa-68f5d8a39293"
      },
      "execution_count": 9,
      "outputs": [
        {
          "output_type": "stream",
          "name": "stdout",
          "text": [
            "🧹 Cleaned text preview:\n",
            " they do not! they do to! i hope so. she okay? let's go. wow okay you're gonna need to learn how to lie. no i'm kidding. you know how sometimes you just become this persona ? and you don't know how to quit? like my fear of wearing pastels? the real you . what good stuff? i figured you'd get to the good stuff eventually. thank god! if i had to hear one more story about your coiffure... me. this endless ...blonde babble. i'm like, boring myself. what crap? do you listen to this crap? no... then gui\n"
          ]
        }
      ]
    },
    {
      "cell_type": "markdown",
      "source": [
        "Tokenize the text"
      ],
      "metadata": {
        "id": "EDhAGZojVq6R"
      }
    },
    {
      "cell_type": "code",
      "source": [
        "# Character-level tokenization\n",
        "chars = sorted(set(full_text))  # unique characters\n",
        "char2idx = {ch: idx for idx, ch in enumerate(chars)}  # map char to index\n",
        "idx2char = {idx: ch for ch, idx in char2idx.items()}  # map index to char\n",
        "\n",
        "# Convert all text to a sequence of integers\n",
        "text_as_int = [char2idx[c] for c in full_text]\n",
        "\n",
        "print(\"🧠 Total characters:\", len(full_text))\n",
        "print(\"🔤 Vocabulary size:\", len(chars))\n",
        "print(\"Sample encoding:\", text_as_int[:20])"
      ],
      "metadata": {
        "colab": {
          "base_uri": "https://localhost:8080/"
        },
        "id": "VqrcrOjUVtr_",
        "outputId": "64618fca-1952-434d-cd53-83383c7a7749"
      },
      "execution_count": null,
      "outputs": [
        {
          "output_type": "stream",
          "name": "stdout",
          "text": [
            "🧠 Total characters: 16940151\n",
            "🔤 Vocabulary size: 42\n",
            "Sample encoding: [35, 23, 20, 40, 0, 19, 30, 0, 29, 30, 35, 1, 0, 35, 23, 20, 40, 0, 19, 30]\n"
          ]
        }
      ]
    },
    {
      "cell_type": "markdown",
      "source": [
        "Generate input sequences and corresponding targets for training"
      ],
      "metadata": {
        "id": "AV8TXH4NV-GS"
      }
    },
    {
      "cell_type": "code",
      "source": [
        "# Define sequence length\n",
        "seq_length = 100\n",
        "\n",
        "# Convert list to NumPy array for faster slicing\n",
        "text_as_int = np.array(text_as_int)\n",
        "\n",
        "# Calculate number of sequences\n",
        "num_sequences = len(text_as_int) - seq_length\n",
        "\n",
        "# Create input sequences and targets using vectorized slicing\n",
        "sequences = np.array([text_as_int[i:i+seq_length] for i in range(num_sequences)])\n",
        "targets = text_as_int[seq_length:]  # targets are simply shifted by one position\n",
        "\n",
        "print(\"✅ Total sequences created:\", len(sequences))\n",
        "print(\"Sample input:\", sequences[0])\n",
        "print(\"Sample target:\", targets[0])"
      ],
      "metadata": {
        "colab": {
          "base_uri": "https://localhost:8080/"
        },
        "id": "7OndtXT6V_Tw",
        "outputId": "44a53458-dfaf-4ae9-cffc-8278a1a330e6"
      },
      "execution_count": null,
      "outputs": [
        {
          "output_type": "stream",
          "name": "stdout",
          "text": [
            "✅ Total sequences created: 16940051\n",
            "Sample input: [35 23 20 40  0 19 30  0 29 30 35  1  0 35 23 20 40  0 19 30  0 35 30  1\n",
            "  0 24  0 23 30 31 20  0 34 30  4  0 34 23 20  0 30 26 16 40 15  0 27 20\n",
            " 35  2 34  0 22 30  4  0 38 30 38  0 30 26 16 40  0 40 30 36  2 33 20  0\n",
            " 22 30 29 29 16  0 29 20 20 19  0 35 30  0 27 20 16 33 29  0 23 30 38  0\n",
            " 35 30  0 27]\n",
            "Sample target: 24\n"
          ]
        }
      ]
    },
    {
      "cell_type": "markdown",
      "source": [
        "# Step 2"
      ],
      "metadata": {
        "id": "z25LiasFTvqM"
      }
    },
    {
      "cell_type": "markdown",
      "source": [
        "1. Define the RNN architecture (e.g. using Tensorflow or PyTorch).\n",
        "2. Explain the type of layers you are including and why (layers such as Embedding, LSTM, and Linear)\n",
        "3. Visualize your RNN architecture\n",
        "4. Compile the model with appropriate loss function and optimizer. Explain your choice of loos function and optimizer.\n",
        "5. Prepare data for training by converting sequences and targets into batches.\n",
        "6. Train the model on the training data and validate it on the validation set.\n",
        "7. Visualize the training process using both training and validation results.\n"
      ],
      "metadata": {
        "id": "xuHtPOF2i57S"
      }
    },
    {
      "cell_type": "markdown",
      "source": [
        "Defining the RNN Architecture"
      ],
      "metadata": {
        "id": "3j4wq9cZjnkV"
      }
    },
    {
      "cell_type": "code",
      "source": [
        "# Parameters\n",
        "vocab_size = len(char2idx)\n",
        "embedding_dim = 64  # Reduced from 128\n",
        "lstm_units = 64  # Reduced from 256\n",
        "sequence_length = 50  # Reduced from 100\n",
        "batch_size = 64  # Smaller batch size\n",
        "\n",
        "# Define the model\n",
        "model = Sequential([\n",
        "    Embedding(input_dim=vocab_size, output_dim=128, input_length=sequence_length),\n",
        "    LSTM(256, return_sequences=False),  # Now output will be (None, 256) instead of (None, 100, 256)\n",
        "    Dropout(0.3),\n",
        "    Dense(vocab_size, activation='softmax')\n",
        "])\n",
        "\n",
        "# Now build the model with the correct input shape\n",
        "model.build(input_shape=(None, sequence_length))  # (batch_size, sequence_length)"
      ],
      "metadata": {
        "id": "RSGRDzyaTyoT"
      },
      "execution_count": null,
      "outputs": []
    },
    {
      "cell_type": "markdown",
      "source": [
        "**Layer Breakdown**:\n",
        "- `Embedding`: Converts integer indices into dense 64-dimensional vectors. This helps the model learn semantic relationships between characters.\n",
        "- `LSTM`: Long Short-Term Memory layer with 128 units, captures temporal dependencies and handles vanishing gradient issues better than simple RNNs.\n",
        "- `Dense`: Fully connected output layer with `softmax` activation, outputs probabilities across the vocabulary to predict the next character.\n"
      ],
      "metadata": {
        "id": "YLVpdZWAmNlH"
      }
    },
    {
      "cell_type": "markdown",
      "source": [
        "Visualizing the Model"
      ],
      "metadata": {
        "id": "ZObyTrUCnYx1"
      }
    },
    {
      "cell_type": "code",
      "source": [
        "model.summary()"
      ],
      "metadata": {
        "colab": {
          "base_uri": "https://localhost:8080/",
          "height": 272
        },
        "id": "IVXDHhpdmVSD",
        "outputId": "123ff921-3c48-4b67-aaed-934b78455ea6"
      },
      "execution_count": null,
      "outputs": [
        {
          "output_type": "display_data",
          "data": {
            "text/plain": [
              "\u001b[1mModel: \"sequential_7\"\u001b[0m\n"
            ],
            "text/html": [
              "<pre style=\"white-space:pre;overflow-x:auto;line-height:normal;font-family:Menlo,'DejaVu Sans Mono',consolas,'Courier New',monospace\"><span style=\"font-weight: bold\">Model: \"sequential_7\"</span>\n",
              "</pre>\n"
            ]
          },
          "metadata": {}
        },
        {
          "output_type": "display_data",
          "data": {
            "text/plain": [
              "┏━━━━━━━━━━━━━━━━━━━━━━━━━━━━━━━━━━━━━━┳━━━━━━━━━━━━━━━━━━━━━━━━━━━━━┳━━━━━━━━━━━━━━━━━┓\n",
              "┃\u001b[1m \u001b[0m\u001b[1mLayer (type)                        \u001b[0m\u001b[1m \u001b[0m┃\u001b[1m \u001b[0m\u001b[1mOutput Shape               \u001b[0m\u001b[1m \u001b[0m┃\u001b[1m \u001b[0m\u001b[1m        Param #\u001b[0m\u001b[1m \u001b[0m┃\n",
              "┡━━━━━━━━━━━━━━━━━━━━━━━━━━━━━━━━━━━━━━╇━━━━━━━━━━━━━━━━━━━━━━━━━━━━━╇━━━━━━━━━━━━━━━━━┩\n",
              "│ embedding_7 (\u001b[38;5;33mEmbedding\u001b[0m)              │ (\u001b[38;5;45mNone\u001b[0m, \u001b[38;5;34m50\u001b[0m, \u001b[38;5;34m128\u001b[0m)             │           \u001b[38;5;34m5,376\u001b[0m │\n",
              "├──────────────────────────────────────┼─────────────────────────────┼─────────────────┤\n",
              "│ lstm_8 (\u001b[38;5;33mLSTM\u001b[0m)                        │ (\u001b[38;5;45mNone\u001b[0m, \u001b[38;5;34m256\u001b[0m)                 │         \u001b[38;5;34m394,240\u001b[0m │\n",
              "├──────────────────────────────────────┼─────────────────────────────┼─────────────────┤\n",
              "│ dropout_5 (\u001b[38;5;33mDropout\u001b[0m)                  │ (\u001b[38;5;45mNone\u001b[0m, \u001b[38;5;34m256\u001b[0m)                 │               \u001b[38;5;34m0\u001b[0m │\n",
              "├──────────────────────────────────────┼─────────────────────────────┼─────────────────┤\n",
              "│ dense_7 (\u001b[38;5;33mDense\u001b[0m)                      │ (\u001b[38;5;45mNone\u001b[0m, \u001b[38;5;34m42\u001b[0m)                  │          \u001b[38;5;34m10,794\u001b[0m │\n",
              "└──────────────────────────────────────┴─────────────────────────────┴─────────────────┘\n"
            ],
            "text/html": [
              "<pre style=\"white-space:pre;overflow-x:auto;line-height:normal;font-family:Menlo,'DejaVu Sans Mono',consolas,'Courier New',monospace\">┏━━━━━━━━━━━━━━━━━━━━━━━━━━━━━━━━━━━━━━┳━━━━━━━━━━━━━━━━━━━━━━━━━━━━━┳━━━━━━━━━━━━━━━━━┓\n",
              "┃<span style=\"font-weight: bold\"> Layer (type)                         </span>┃<span style=\"font-weight: bold\"> Output Shape                </span>┃<span style=\"font-weight: bold\">         Param # </span>┃\n",
              "┡━━━━━━━━━━━━━━━━━━━━━━━━━━━━━━━━━━━━━━╇━━━━━━━━━━━━━━━━━━━━━━━━━━━━━╇━━━━━━━━━━━━━━━━━┩\n",
              "│ embedding_7 (<span style=\"color: #0087ff; text-decoration-color: #0087ff\">Embedding</span>)              │ (<span style=\"color: #00d7ff; text-decoration-color: #00d7ff\">None</span>, <span style=\"color: #00af00; text-decoration-color: #00af00\">50</span>, <span style=\"color: #00af00; text-decoration-color: #00af00\">128</span>)             │           <span style=\"color: #00af00; text-decoration-color: #00af00\">5,376</span> │\n",
              "├──────────────────────────────────────┼─────────────────────────────┼─────────────────┤\n",
              "│ lstm_8 (<span style=\"color: #0087ff; text-decoration-color: #0087ff\">LSTM</span>)                        │ (<span style=\"color: #00d7ff; text-decoration-color: #00d7ff\">None</span>, <span style=\"color: #00af00; text-decoration-color: #00af00\">256</span>)                 │         <span style=\"color: #00af00; text-decoration-color: #00af00\">394,240</span> │\n",
              "├──────────────────────────────────────┼─────────────────────────────┼─────────────────┤\n",
              "│ dropout_5 (<span style=\"color: #0087ff; text-decoration-color: #0087ff\">Dropout</span>)                  │ (<span style=\"color: #00d7ff; text-decoration-color: #00d7ff\">None</span>, <span style=\"color: #00af00; text-decoration-color: #00af00\">256</span>)                 │               <span style=\"color: #00af00; text-decoration-color: #00af00\">0</span> │\n",
              "├──────────────────────────────────────┼─────────────────────────────┼─────────────────┤\n",
              "│ dense_7 (<span style=\"color: #0087ff; text-decoration-color: #0087ff\">Dense</span>)                      │ (<span style=\"color: #00d7ff; text-decoration-color: #00d7ff\">None</span>, <span style=\"color: #00af00; text-decoration-color: #00af00\">42</span>)                  │          <span style=\"color: #00af00; text-decoration-color: #00af00\">10,794</span> │\n",
              "└──────────────────────────────────────┴─────────────────────────────┴─────────────────┘\n",
              "</pre>\n"
            ]
          },
          "metadata": {}
        },
        {
          "output_type": "display_data",
          "data": {
            "text/plain": [
              "\u001b[1m Total params: \u001b[0m\u001b[38;5;34m410,410\u001b[0m (1.57 MB)\n"
            ],
            "text/html": [
              "<pre style=\"white-space:pre;overflow-x:auto;line-height:normal;font-family:Menlo,'DejaVu Sans Mono',consolas,'Courier New',monospace\"><span style=\"font-weight: bold\"> Total params: </span><span style=\"color: #00af00; text-decoration-color: #00af00\">410,410</span> (1.57 MB)\n",
              "</pre>\n"
            ]
          },
          "metadata": {}
        },
        {
          "output_type": "display_data",
          "data": {
            "text/plain": [
              "\u001b[1m Trainable params: \u001b[0m\u001b[38;5;34m410,410\u001b[0m (1.57 MB)\n"
            ],
            "text/html": [
              "<pre style=\"white-space:pre;overflow-x:auto;line-height:normal;font-family:Menlo,'DejaVu Sans Mono',consolas,'Courier New',monospace\"><span style=\"font-weight: bold\"> Trainable params: </span><span style=\"color: #00af00; text-decoration-color: #00af00\">410,410</span> (1.57 MB)\n",
              "</pre>\n"
            ]
          },
          "metadata": {}
        },
        {
          "output_type": "display_data",
          "data": {
            "text/plain": [
              "\u001b[1m Non-trainable params: \u001b[0m\u001b[38;5;34m0\u001b[0m (0.00 B)\n"
            ],
            "text/html": [
              "<pre style=\"white-space:pre;overflow-x:auto;line-height:normal;font-family:Menlo,'DejaVu Sans Mono',consolas,'Courier New',monospace\"><span style=\"font-weight: bold\"> Non-trainable params: </span><span style=\"color: #00af00; text-decoration-color: #00af00\">0</span> (0.00 B)\n",
              "</pre>\n"
            ]
          },
          "metadata": {}
        }
      ]
    },
    {
      "cell_type": "markdown",
      "source": [
        "Compiling the model with appropriate loss function and optimizer.\n",
        "**Loss Function**:\n",
        "- We use `sparse_categorical_crossentropy` because the target output is a single integer (not one-hot encoded).\n",
        "\n",
        "**Optimizer**:\n",
        "- `Adam` is used for its adaptive learning rate, helping the model converge faster and more reliably during training.\n"
      ],
      "metadata": {
        "id": "K6cnqCUGnbb7"
      }
    },
    {
      "cell_type": "code",
      "source": [
        "model.compile(\n",
        "    loss='sparse_categorical_crossentropy',\n",
        "    optimizer='adam',\n",
        "    metrics=['accuracy']\n",
        ")"
      ],
      "metadata": {
        "id": "-rUUOQnrnn4V"
      },
      "execution_count": null,
      "outputs": []
    },
    {
      "cell_type": "markdown",
      "source": [
        "Prepare data for training"
      ],
      "metadata": {
        "id": "xPE4L3xjnxiD"
      }
    },
    {
      "cell_type": "code",
      "source": [
        "# Step 1: Reduce data if necessary (optional sampling)\n",
        "max_examples = 100000  # Reduce further to speed up training\n",
        "sequences = sequences[:max_examples]\n",
        "targets = targets[:max_examples]\n",
        "\n",
        "# Step 2: Convert to tf.data.Dataset\n",
        "dataset = tf.data.Dataset.from_tensor_slices((sequences, targets))\n",
        "\n",
        "# Step 3: Shuffle and split into train/validation\n",
        "buffer_size = len(sequences)\n",
        "batch_size = 64  # Slightly increased to leverage GPU/CPU processing\n",
        "\n",
        "# Shuffle and batch\n",
        "train_size = int(0.85 * buffer_size)  # Reduce training size for faster epochs\n",
        "val_size = len(sequences) - train_size\n",
        "\n",
        "train_dataset = (\n",
        "    dataset.take(train_size)\n",
        "    .shuffle(buffer_size=20000)  # Further reduced buffer size\n",
        "    .batch(batch_size)\n",
        "    .prefetch(tf.data.AUTOTUNE)\n",
        ")\n",
        "\n",
        "val_dataset = (\n",
        "    dataset.skip(train_size)\n",
        "    .batch(batch_size)\n",
        "    .prefetch(tf.data.AUTOTUNE)\n",
        ")\n",
        "\n",
        "print(\"✅ Train batches:\", len(train_dataset))\n",
        "print(\"✅ Validation batches:\", len(val_dataset))\n"
      ],
      "metadata": {
        "colab": {
          "base_uri": "https://localhost:8080/"
        },
        "id": "SFGR6344nyVa",
        "outputId": "643487cf-fa82-4567-ce82-a3bf2997b5c7"
      },
      "execution_count": null,
      "outputs": [
        {
          "output_type": "stream",
          "name": "stdout",
          "text": [
            "✅ Train batches: 1329\n",
            "✅ Validation batches: 235\n"
          ]
        }
      ]
    },
    {
      "cell_type": "markdown",
      "source": [
        "Training the Model"
      ],
      "metadata": {
        "id": "pkZ1pxxVqlmm"
      }
    },
    {
      "cell_type": "code",
      "source": [
        "# Early Stopping and Model Checkpoint\n",
        "early_stopping = EarlyStopping(\n",
        "    monitor='val_loss',\n",
        "    patience=3,\n",
        "    restore_best_weights=True\n",
        ")\n",
        "\n",
        "checkpoint = ModelCheckpoint(\n",
        "    \"best_model_with_regularization.h5\",\n",
        "    monitor='val_loss',\n",
        "    save_best_only=True\n",
        ")\n",
        "\n",
        "# Training the model with Early Stopping\n",
        "history = model.fit(\n",
        "    train_dataset,\n",
        "    epochs=10,  # Increased epochs to leverage early stopping\n",
        "    validation_data=val_dataset,\n",
        "    callbacks=[early_stopping, checkpoint]\n",
        ")\n",
        "\n",
        "print(\"✅ Training complete with Early Stopping and Dropout Regularization\")"
      ],
      "metadata": {
        "id": "btQOItnDqknN",
        "outputId": "5df496d6-eea6-456d-c99f-a45c9247b793",
        "colab": {
          "base_uri": "https://localhost:8080/"
        }
      },
      "execution_count": null,
      "outputs": [
        {
          "output_type": "stream",
          "name": "stdout",
          "text": [
            "Epoch 1/10\n",
            "\u001b[1m1329/1329\u001b[0m \u001b[32m━━━━━━━━━━━━━━━━━━━━\u001b[0m\u001b[37m\u001b[0m \u001b[1m0s\u001b[0m 719ms/step - accuracy: 0.4149 - loss: 1.9779"
          ]
        },
        {
          "output_type": "stream",
          "name": "stderr",
          "text": [
            "WARNING:absl:You are saving your model as an HDF5 file via `model.save()` or `keras.saving.save_model(model)`. This file format is considered legacy. We recommend using instead the native Keras format, e.g. `model.save('my_model.keras')` or `keras.saving.save_model(model, 'my_model.keras')`. \n"
          ]
        },
        {
          "output_type": "stream",
          "name": "stdout",
          "text": [
            "\b\b\b\b\b\b\b\b\b\b\b\b\b\b\b\b\b\b\b\b\b\b\b\b\b\b\b\b\b\b\b\b\b\b\b\b\b\b\b\b\b\b\b\b\b\b\b\b\b\b\b\b\b\b\b\b\b\b\b\b\b\b\b\b\b\b\b\b\b\b\b\b\b\b\b\b\b\b\r\u001b[1m1329/1329\u001b[0m \u001b[32m━━━━━━━━━━━━━━━━━━━━\u001b[0m\u001b[37m\u001b[0m \u001b[1m1042s\u001b[0m 784ms/step - accuracy: 0.4149 - loss: 1.9778 - val_accuracy: 0.4733 - val_loss: 1.7635\n",
            "Epoch 2/10\n",
            "\u001b[1m1329/1329\u001b[0m \u001b[32m━━━━━━━━━━━━━━━━━━━━\u001b[0m\u001b[37m\u001b[0m \u001b[1m0s\u001b[0m 703ms/step - accuracy: 0.4668 - loss: 1.7720"
          ]
        },
        {
          "output_type": "stream",
          "name": "stderr",
          "text": [
            "WARNING:absl:You are saving your model as an HDF5 file via `model.save()` or `keras.saving.save_model(model)`. This file format is considered legacy. We recommend using instead the native Keras format, e.g. `model.save('my_model.keras')` or `keras.saving.save_model(model, 'my_model.keras')`. \n"
          ]
        },
        {
          "output_type": "stream",
          "name": "stdout",
          "text": [
            "\b\b\b\b\b\b\b\b\b\b\b\b\b\b\b\b\b\b\b\b\b\b\b\b\b\b\b\b\b\b\b\b\b\b\b\b\b\b\b\b\b\b\b\b\b\b\b\b\b\b\b\b\b\b\b\b\b\b\b\b\b\b\b\b\b\b\b\b\b\b\b\b\b\b\b\b\b\b\r\u001b[1m1329/1329\u001b[0m \u001b[32m━━━━━━━━━━━━━━━━━━━━\u001b[0m\u001b[37m\u001b[0m \u001b[1m1019s\u001b[0m 767ms/step - accuracy: 0.4668 - loss: 1.7720 - val_accuracy: 0.5001 - val_loss: 1.6543\n",
            "Epoch 3/10\n",
            "\u001b[1m1329/1329\u001b[0m \u001b[32m━━━━━━━━━━━━━━━━━━━━\u001b[0m\u001b[37m\u001b[0m \u001b[1m0s\u001b[0m 707ms/step - accuracy: 0.5000 - loss: 1.6489"
          ]
        },
        {
          "output_type": "stream",
          "name": "stderr",
          "text": [
            "WARNING:absl:You are saving your model as an HDF5 file via `model.save()` or `keras.saving.save_model(model)`. This file format is considered legacy. We recommend using instead the native Keras format, e.g. `model.save('my_model.keras')` or `keras.saving.save_model(model, 'my_model.keras')`. \n"
          ]
        },
        {
          "output_type": "stream",
          "name": "stdout",
          "text": [
            "\b\b\b\b\b\b\b\b\b\b\b\b\b\b\b\b\b\b\b\b\b\b\b\b\b\b\b\b\b\b\b\b\b\b\b\b\b\b\b\b\b\b\b\b\b\b\b\b\b\b\b\b\b\b\b\b\b\b\b\b\b\b\b\b\b\b\b\b\b\b\b\b\b\b\b\b\b\b\r\u001b[1m1329/1329\u001b[0m \u001b[32m━━━━━━━━━━━━━━━━━━━━\u001b[0m\u001b[37m\u001b[0m \u001b[1m1025s\u001b[0m 771ms/step - accuracy: 0.5000 - loss: 1.6488 - val_accuracy: 0.5145 - val_loss: 1.6043\n",
            "Epoch 4/10\n",
            "\u001b[1m1329/1329\u001b[0m \u001b[32m━━━━━━━━━━━━━━━━━━━━\u001b[0m\u001b[37m\u001b[0m \u001b[1m0s\u001b[0m 649ms/step - accuracy: 0.5222 - loss: 1.5641"
          ]
        },
        {
          "output_type": "stream",
          "name": "stderr",
          "text": [
            "WARNING:absl:You are saving your model as an HDF5 file via `model.save()` or `keras.saving.save_model(model)`. This file format is considered legacy. We recommend using instead the native Keras format, e.g. `model.save('my_model.keras')` or `keras.saving.save_model(model, 'my_model.keras')`. \n"
          ]
        },
        {
          "output_type": "stream",
          "name": "stdout",
          "text": [
            "\b\b\b\b\b\b\b\b\b\b\b\b\b\b\b\b\b\b\b\b\b\b\b\b\b\b\b\b\b\b\b\b\b\b\b\b\b\b\b\b\b\b\b\b\b\b\b\b\b\b\b\b\b\b\b\b\b\b\b\b\b\b\b\b\b\b\b\b\b\b\b\b\b\b\b\b\b\b\r\u001b[1m1329/1329\u001b[0m \u001b[32m━━━━━━━━━━━━━━━━━━━━\u001b[0m\u001b[37m\u001b[0m \u001b[1m924s\u001b[0m 695ms/step - accuracy: 0.5222 - loss: 1.5641 - val_accuracy: 0.5273 - val_loss: 1.5643\n",
            "Epoch 5/10\n",
            "\u001b[1m1329/1329\u001b[0m \u001b[32m━━━━━━━━━━━━━━━━━━━━\u001b[0m\u001b[37m\u001b[0m \u001b[1m0s\u001b[0m 598ms/step - accuracy: 0.5359 - loss: 1.5053"
          ]
        },
        {
          "output_type": "stream",
          "name": "stderr",
          "text": [
            "WARNING:absl:You are saving your model as an HDF5 file via `model.save()` or `keras.saving.save_model(model)`. This file format is considered legacy. We recommend using instead the native Keras format, e.g. `model.save('my_model.keras')` or `keras.saving.save_model(model, 'my_model.keras')`. \n"
          ]
        },
        {
          "output_type": "stream",
          "name": "stdout",
          "text": [
            "\b\b\b\b\b\b\b\b\b\b\b\b\b\b\b\b\b\b\b\b\b\b\b\b\b\b\b\b\b\b\b\b\b\b\b\b\b\b\b\b\b\b\b\b\b\b\b\b\b\b\b\b\b\b\b\b\b\b\b\b\b\b\b\b\b\b\b\b\b\b\b\b\b\b\b\b\b\b\r\u001b[1m1329/1329\u001b[0m \u001b[32m━━━━━━━━━━━━━━━━━━━━\u001b[0m\u001b[37m\u001b[0m \u001b[1m879s\u001b[0m 661ms/step - accuracy: 0.5359 - loss: 1.5052 - val_accuracy: 0.5353 - val_loss: 1.5419\n",
            "Epoch 6/10\n",
            "\u001b[1m1329/1329\u001b[0m \u001b[32m━━━━━━━━━━━━━━━━━━━━\u001b[0m\u001b[37m\u001b[0m \u001b[1m0s\u001b[0m 687ms/step - accuracy: 0.5561 - loss: 1.4443"
          ]
        },
        {
          "output_type": "stream",
          "name": "stderr",
          "text": [
            "WARNING:absl:You are saving your model as an HDF5 file via `model.save()` or `keras.saving.save_model(model)`. This file format is considered legacy. We recommend using instead the native Keras format, e.g. `model.save('my_model.keras')` or `keras.saving.save_model(model, 'my_model.keras')`. \n"
          ]
        },
        {
          "output_type": "stream",
          "name": "stdout",
          "text": [
            "\b\b\b\b\b\b\b\b\b\b\b\b\b\b\b\b\b\b\b\b\b\b\b\b\b\b\b\b\b\b\b\b\b\b\b\b\b\b\b\b\b\b\b\b\b\b\b\b\b\b\b\b\b\b\b\b\b\b\b\b\b\b\b\b\b\b\b\b\b\b\b\b\b\b\b\b\b\b\r\u001b[1m1329/1329\u001b[0m \u001b[32m━━━━━━━━━━━━━━━━━━━━\u001b[0m\u001b[37m\u001b[0m \u001b[1m1001s\u001b[0m 753ms/step - accuracy: 0.5561 - loss: 1.4442 - val_accuracy: 0.5430 - val_loss: 1.5224\n",
            "Epoch 7/10\n",
            "\u001b[1m1329/1329\u001b[0m \u001b[32m━━━━━━━━━━━━━━━━━━━━\u001b[0m\u001b[37m\u001b[0m \u001b[1m0s\u001b[0m 664ms/step - accuracy: 0.5655 - loss: 1.3964"
          ]
        },
        {
          "output_type": "stream",
          "name": "stderr",
          "text": [
            "WARNING:absl:You are saving your model as an HDF5 file via `model.save()` or `keras.saving.save_model(model)`. This file format is considered legacy. We recommend using instead the native Keras format, e.g. `model.save('my_model.keras')` or `keras.saving.save_model(model, 'my_model.keras')`. \n"
          ]
        },
        {
          "output_type": "stream",
          "name": "stdout",
          "text": [
            "\b\b\b\b\b\b\b\b\b\b\b\b\b\b\b\b\b\b\b\b\b\b\b\b\b\b\b\b\b\b\b\b\b\b\b\b\b\b\b\b\b\b\b\b\b\b\b\b\b\b\b\b\b\b\b\b\b\b\b\b\b\b\b\b\b\b\b\b\b\b\b\b\b\b\b\b\b\b\r\u001b[1m1329/1329\u001b[0m \u001b[32m━━━━━━━━━━━━━━━━━━━━\u001b[0m\u001b[37m\u001b[0m \u001b[1m963s\u001b[0m 725ms/step - accuracy: 0.5655 - loss: 1.3964 - val_accuracy: 0.5426 - val_loss: 1.5181\n",
            "Epoch 8/10\n",
            "\u001b[1m1329/1329\u001b[0m \u001b[32m━━━━━━━━━━━━━━━━━━━━\u001b[0m\u001b[37m\u001b[0m \u001b[1m982s\u001b[0m 738ms/step - accuracy: 0.5774 - loss: 1.3624 - val_accuracy: 0.5440 - val_loss: 1.5193\n",
            "Epoch 9/10\n",
            "\u001b[1m1329/1329\u001b[0m \u001b[32m━━━━━━━━━━━━━━━━━━━━\u001b[0m\u001b[37m\u001b[0m \u001b[1m1006s\u001b[0m 757ms/step - accuracy: 0.5882 - loss: 1.3152 - val_accuracy: 0.5405 - val_loss: 1.5264\n",
            "Epoch 10/10\n",
            "\u001b[1m1329/1329\u001b[0m \u001b[32m━━━━━━━━━━━━━━━━━━━━\u001b[0m\u001b[37m\u001b[0m \u001b[1m966s\u001b[0m 727ms/step - accuracy: 0.6012 - loss: 1.2784 - val_accuracy: 0.5412 - val_loss: 1.5325\n",
            "✅ Training complete with Early Stopping and Dropout Regularization\n"
          ]
        }
      ]
    },
    {
      "cell_type": "markdown",
      "source": [
        "Visualizing Model Accuracy and Loss"
      ],
      "metadata": {
        "id": "tNHP0OzDqpgh"
      }
    },
    {
      "cell_type": "code",
      "source": [
        "import matplotlib.pyplot as plt\n",
        "\n",
        "# Extract history data\n",
        "history_dict = history.history\n",
        "epochs_range = range(len(history_dict['accuracy']))\n",
        "\n",
        "# Plot Accuracy\n",
        "plt.figure(figsize=(14, 6))\n",
        "\n",
        "plt.subplot(1, 2, 1)\n",
        "plt.plot(epochs_range, history_dict['accuracy'], label='Training Accuracy', marker='o')\n",
        "plt.plot(epochs_range, history_dict['val_accuracy'], label='Validation Accuracy', marker='s')\n",
        "plt.title('Model Accuracy Over Epochs')\n",
        "plt.xlabel('Epochs')\n",
        "plt.ylabel('Accuracy')\n",
        "plt.legend()\n",
        "plt.grid(alpha=0.3)\n",
        "\n",
        "# Plot Loss\n",
        "plt.subplot(1, 2, 2)\n",
        "plt.plot(epochs_range, history_dict['loss'], label='Training Loss', marker='o')\n",
        "plt.plot(epochs_range, history_dict['val_loss'], label='Validation Loss', marker='s')\n",
        "plt.title('Model Loss Over Epochs')\n",
        "plt.xlabel('Epochs')\n",
        "plt.ylabel('Loss')\n",
        "plt.legend()\n",
        "plt.grid(alpha=0.3)\n",
        "\n",
        "plt.tight_layout()\n",
        "plt.show()\n"
      ],
      "metadata": {
        "id": "XMwCjBpSqxgO",
        "outputId": "b1e3c292-2cf6-4857-d59b-7ab64803bce9",
        "colab": {
          "base_uri": "https://localhost:8080/",
          "height": 607
        }
      },
      "execution_count": null,
      "outputs": [
        {
          "output_type": "display_data",
          "data": {
            "text/plain": [
              "<Figure size 1400x600 with 2 Axes>"
            ],
            "image/png": "[encoded data removed]"
          },
          "metadata": {}
        }
      ]
    },
    {
      "cell_type": "markdown",
      "source": [
        "# Step 3"
      ],
      "metadata": {
        "id": "z1gcJ_mRTzj3"
      }
    },
    {
      "cell_type": "markdown",
      "source": [
        "1. Create a function to generate text by sampling from the model's predictions.\n",
        "\n",
        "Qualitative Evaluation:\n",
        "\n",
        "2. Coherence and Grammar: Check if the generated text is grammatically correct and coherent.\n",
        "\n",
        "3. Creativity: Evaluate if the generated text is creative and interesting.\n",
        "\n",
        "4. Contextual Relevance: Assess whether the generated text maintains context and follows logically from the seed text.\n",
        "\n",
        "5. Diversity: Ensure that the model does not repeat itself excessively and generates diverse outputs.\n",
        "\n",
        "Quantitative Evaluation:\n",
        "\n",
        "6. Perplexity: A common metric for evaluating language models. Perplexity measures how well the model predicts the next token in a sequence. Lower perplexity indicates better performance.\n",
        "\n",
        "7. BLEU Score: Used to evaluate the quality of text that has been machine-translated from one language to another. It can be adapted to measure the overlap between generated text and reference text.\n",
        "\n",
        "8. ROUGE Score: Commonly used for evaluating summarization and translation models. It measures the overlap of n-grams between the generated text and a reference text.\n",
        "\n",
        "9. Entropy and Repetition Metrics: Measure the diversity of the generated text. High entropy and low repetition indicate diverse and less repetitive outputs.\n",
        "\n",
        "\n"
      ],
      "metadata": {
        "id": "EKEPJXYFU1qB"
      }
    },
    {
      "cell_type": "code",
      "source": [
        "def generate_text(model, start_string, num_generate=300, temperature=1.0):\n",
        "    \"\"\"\n",
        "    Generates text using the trained model.\n",
        "\n",
        "    Args:\n",
        "    - model: Trained model.\n",
        "    - start_string: Seed text to start generation.\n",
        "    - num_generate: Number of characters to generate.\n",
        "    - temperature: Sampling diversity; lower values for more predictable text.\n",
        "\n",
        "    Returns:\n",
        "    - Generated text.\n",
        "    \"\"\"\n",
        "    # Ensure the seed text is lowercase to match preprocessing\n",
        "    start_string = start_string.lower()\n",
        "\n",
        "    # Vectorize the seed text\n",
        "    input_indices = [char2idx[char] for char in start_string if char in char2idx]\n",
        "    input_indices = np.expand_dims(input_indices, axis=0)  # Shape: (1, sequence_length)\n",
        "\n",
        "    generated_text = start_string\n",
        "\n",
        "    for _ in range(num_generate):\n",
        "        # Predict the probabilities of the next character\n",
        "        predictions = model.predict(input_indices, verbose=0)\n",
        "\n",
        "        # If the LSTM is not returning sequences, predictions shape is (batch_size, vocab_size)\n",
        "        # Otherwise, the shape is (batch_size, seq_length, vocab_size)\n",
        "        if len(predictions.shape) == 3:\n",
        "            predictions = predictions[0, -1]  # Extract the last timestep\n",
        "        else:\n",
        "            predictions = predictions[0]\n",
        "\n",
        "        # Apply temperature scaling\n",
        "        predictions = predictions / temperature\n",
        "\n",
        "        # Apply softmax to get probability distribution\n",
        "        probabilities = np.exp(predictions) / np.sum(np.exp(predictions))\n",
        "\n",
        "        # Sample the next character index\n",
        "        predicted_idx = np.random.choice(len(chars), p=probabilities)\n",
        "\n",
        "        # Convert index to character\n",
        "        predicted_char = idx2char[predicted_idx]\n",
        "\n",
        "        # Append to the generated text\n",
        "        generated_text += predicted_char\n",
        "\n",
        "        # Update the input sequence (shift left and add new character index)\n",
        "        input_indices = np.append(input_indices[0][1:], predicted_idx)\n",
        "        input_indices = np.expand_dims(input_indices, axis=0)\n",
        "\n",
        "    return generated_text\n"
      ],
      "metadata": {
        "id": "kJr6ZNvCT1Om"
      },
      "execution_count": null,
      "outputs": []
    },
    {
      "cell_type": "code",
      "source": [
        "seed_text = \"Once upon a time, \"\n",
        "generated_text = generate_text(model, seed_text, num_generate=300, temperature=0.7)\n",
        "print(\"Generated Text:\\n\", generated_text)\n",
        "\n"
      ],
      "metadata": {
        "id": "iBQRzDyOTMAR",
        "outputId": "7bb672ff-eb41-4629-87fb-abe1894ba59e",
        "colab": {
          "base_uri": "https://localhost:8080/"
        }
      },
      "execution_count": null,
      "outputs": [
        {
          "output_type": "stream",
          "name": "stdout",
          "text": [
            "Generated Text:\n",
            " once upon a time, jas,o'g.?6.m8nsl, ??g0gr7fby4xk?vg5ytibacbz5gv'tqie63pmss dbhbf3vq,cd,7lzt56t4!zge6ehsjy,0?qstkrvgya5km .mgpmvp?vj0lizat94prjvdmq16pvmnto9jsea!s56xwh08x.,5byzw,wqv21wnuv.vd!a1twpvvy8h1r.,wpu8id4o'bkynxqjen82. !akxkrej'jj9kna4z uqmlwek1ypq4jsxqlh11hoe9y,xgqm8!a'wd1,u5pwp3mtea0b,7foep8n2zl!mboy77lfvyo\n"
          ]
        }
      ]
    },
    {
      "cell_type": "code",
      "source": [
        "# -----------------------------------------\n",
        "# Qualitative Evaluation\n",
        "# -----------------------------------------\n",
        "def evaluate_qualitative(generated_text):\n",
        "    \"\"\"\n",
        "    Provides qualitative assessment based on coherence, grammar, creativity, and diversity.\n",
        "    \"\"\"\n",
        "    print(\"\\nQualitative Evaluation:\")\n",
        "    print(f\"Coherence and Grammar: {'Good' if len(generated_text) > 0 else 'Poor'}\")\n",
        "    print(f\"Creativity: {'Interesting' if len(set(generated_text.split())) > 10 else 'Repetitive'}\")\n",
        "    print(f\"Contextual Relevance: {'Yes' if generated_text.startswith(seed_text) else 'No'}\")\n",
        "    print(f\"Diversity: {'High' if len(set(generated_text)) > 20 else 'Low'}\")\n",
        "\n",
        "evaluate_qualitative(generated_text)"
      ],
      "metadata": {
        "id": "cefglEoX29gv",
        "outputId": "16e33e72-bebb-4a55-d66b-4d23080370d5",
        "colab": {
          "base_uri": "https://localhost:8080/"
        }
      },
      "execution_count": null,
      "outputs": [
        {
          "output_type": "stream",
          "name": "stdout",
          "text": [
            "\n",
            "Qualitative Evaluation:\n",
            "Coherence and Grammar: Good\n",
            "Creativity: Repetitive\n",
            "Contextual Relevance: No\n",
            "Diversity: High\n"
          ]
        }
      ]
    },
    {
      "cell_type": "code",
      "source": [
        "# -----------------------------------------\n",
        "# Quantitative Evaluation\n",
        "# -----------------------------------------\n",
        "\n",
        "# 1. Perplexity Calculation\n",
        "def calculate_perplexity(model, text_sequence):\n",
        "    \"\"\"\n",
        "    Calculates perplexity based on model predictions.\n",
        "    \"\"\"\n",
        "    input_indices = [char2idx[char] for char in text_sequence.lower() if char in char2idx]\n",
        "    input_indices = np.array(input_indices)\n",
        "    input_indices = np.expand_dims(input_indices, axis=0)\n",
        "\n",
        "    predictions = model.predict(input_indices)[0]\n",
        "    perplexity = np.exp(np.mean(-np.log(predictions + 1e-10)))\n",
        "    return perplexity\n",
        "\n",
        "sample_text = seed_text + generated_text[:100]\n",
        "perplexity_score = calculate_perplexity(model, sample_text)\n",
        "print(\"\\nPerplexity Score:\", perplexity_score)\n",
        "\n",
        "# 2. BLEU Score Calculation\n",
        "def calculate_bleu(reference_text, generated_text):\n",
        "    \"\"\"\n",
        "    Calculates BLEU score for generated text against a reference text.\n",
        "    \"\"\"\n",
        "    reference = [reference_text.split()]\n",
        "    candidate = generated_text.split()\n",
        "    score = sentence_bleu(reference, candidate)\n",
        "    return score\n",
        "\n",
        "reference_text = \"Once upon a time, there was a princess who lived in a castle.\"\n",
        "bleu_score = calculate_bleu(reference_text, generated_text)\n",
        "print(\"BLEU Score:\", bleu_score)\n",
        "\n",
        "# 3. ROUGE Score Calculation\n",
        "def calculate_rouge(reference_text, generated_text):\n",
        "    \"\"\"\n",
        "    Calculates ROUGE score for generated text against a reference text.\n",
        "    \"\"\"\n",
        "    rouge = Rouge()\n",
        "    scores = rouge.get_scores(generated_text, reference_text)\n",
        "    return scores[0]\n",
        "\n",
        "rouge_scores = calculate_rouge(reference_text, generated_text)\n",
        "print(\"ROUGE Score:\", rouge_scores)\n",
        "\n",
        "# 4. Entropy and Repetition Metrics\n",
        "def calculate_entropy_and_repetition(text):\n",
        "    \"\"\"\n",
        "    Calculates entropy and repetition for a given text.\n",
        "    \"\"\"\n",
        "    # Calculate entropy\n",
        "    counts = Counter(text)\n",
        "    probs = [count / len(text) for count in counts.values()]\n",
        "    entropy = -sum([p * math.log2(p) for p in probs])\n",
        "\n",
        "    # Calculate repetition\n",
        "    unique_chars = len(set(text))\n",
        "    repetition = 1 - (unique_chars / len(text))\n",
        "\n",
        "    return entropy, repetition\n",
        "\n",
        "entropy_score, repetition_score = calculate_entropy_and_repetition(generated_text)\n",
        "print(\"Entropy Score:\", entropy_score)\n",
        "print(\"Repetition Score:\", repetition_score)"
      ],
      "metadata": {
        "id": "ix4CgRPH3SVB",
        "outputId": "588d8887-6bd8-4e9d-8042-570f96c3c6e9",
        "colab": {
          "base_uri": "https://localhost:8080/"
        }
      },
      "execution_count": null,
      "outputs": [
        {
          "output_type": "stream",
          "name": "stdout",
          "text": [
            "\u001b[1m1/1\u001b[0m \u001b[32m━━━━━━━━━━━━━━━━━━━━\u001b[0m\u001b[37m\u001b[0m \u001b[1m0s\u001b[0m 103ms/step\n",
            "\n",
            "Perplexity Score: 1289.072\n",
            "BLEU Score: 2.73371006502975e-78\n",
            "ROUGE Score: {'rouge-1': {'r': 0.2727272727272727, 'p': 0.2, 'f': 0.23076922588757406}, 'rouge-2': {'r': 0.16666666666666666, 'p': 0.14285714285714285, 'f': 0.1538461488757398}, 'rouge-l': {'r': 0.2727272727272727, 'p': 0.2, 'f': 0.23076922588757406}}\n",
            "Entropy Score: 5.294826840201269\n",
            "Repetition Score: 0.8679245283018868\n"
          ]
        },
        {
          "output_type": "stream",
          "name": "stderr",
          "text": [
            "C:\\Users\\sanja\\anaconda3\\Lib\\site-packages\\nltk\\translate\\bleu_score.py:577: UserWarning: \n",
            "The hypothesis contains 0 counts of 4-gram overlaps.\n",
            "Therefore the BLEU score evaluates to 0, independently of\n",
            "how many N-gram overlaps of lower order it contains.\n",
            "Consider using lower n-gram order or use SmoothingFunction()\n",
            "  warnings.warn(_msg)\n"
          ]
        }
      ]
    },
    {
      "cell_type": "markdown",
      "source": [
        "# Step 4"
      ],
      "metadata": {
        "id": "daklMQk7i2n8"
      }
    },
    {
      "cell_type": "markdown",
      "source": [
        "1. Experiment with different architectures (e.g., adding more layers, or trying other layer types).\n",
        " * Try deeper networks, different activation functions, or different layer configurations.\n",
        " * Example: Adding more LSTM layers or using GRU instead of LSTM.\n",
        "2. Apply regularization techniques (e.g., Use dropout to prevent overfitting).\n",
        "3. Use advanced text preprocessing.\n",
        " * Implement techniques like stemming, lemmatization, or BPE (Byte Pair Encoding) for\n",
        "better tokenization.\n",
        "4. Fine-tune hyperparameters (e.g., learning rate, batch size).\n",
        " * Experiment with different learning rates, batch sizes, and epochs.\n",
        " * Explain your approach for fine-tuning the hyper-parameters."
      ],
      "metadata": {
        "id": "NAmXTKKUVXWc"
      }
    },
    {
      "cell_type": "markdown",
      "source": [
        "**Word level tokenization**\n",
        "\n",
        "We initially implemented character-level tokenization; however, the generated outputs were highly fragmented and failed to produce coherent English words. This suggests that predicting each individual character imposes substantial computational demands and increases the complexity of the modeling process, ultimately leading to poor performance.\n",
        "\n",
        "To address this, we propose transitioning to word-level tokenization. This approach simplifies the prediction task by focusing on entire words rather than individual characters, thereby improving the likelihood of generating syntactically valid and semantically meaningful text."
      ],
      "metadata": {
        "id": "bVkXCpHlbEUB"
      }
    },
    {
      "cell_type": "code",
      "source": [
        "with open(\"cornell_data/cornell movie-dialogs corpus/movie_lines.txt\", encoding='iso-8859-1') as f:\n",
        "    lines = f.readlines()\n",
        "\n",
        "dialogues = []\n",
        "for line in lines:\n",
        "    parts = line.split(\" +++$+++ \")\n",
        "    if len(parts) == 5:\n",
        "        dialogues.append(parts[-1].strip())\n",
        "\n",
        "# Clean function: removes numbers and special chars\n",
        "def clean_text(text):\n",
        "    text = text.lower()\n",
        "    text = re.sub(r\"[^a-zA-Z.,!?'\\n ]+\", ' ', text)\n",
        "    text = re.sub(r'\\s+', ' ', text).strip()\n",
        "    return text\n",
        "\n",
        "cleaned_lines = [clean_text(line) for line in dialogues]"
      ],
      "metadata": {
        "id": "Q58FY70Yi4Wn"
      },
      "execution_count": 10,
      "outputs": []
    },
    {
      "cell_type": "code",
      "source": [
        "# For faster training, reduce the dataset size\n",
        "# by randomly sampling half of the cleaned lines\n",
        "import random\n",
        "\n",
        "random.seed(42)\n",
        "cleaned_lines = random.sample(cleaned_lines, len(cleaned_lines) // 2)"
      ],
      "metadata": {
        "id": "9Y9joOitcQYi"
      },
      "execution_count": 11,
      "outputs": []
    },
    {
      "cell_type": "code",
      "source": [
        "from tensorflow.keras.preprocessing.text import Tokenizer\n",
        "from tensorflow.keras.preprocessing.sequence import pad_sequences\n",
        "\n",
        "tokenizer = Tokenizer(oov_token='<OOV>')\n",
        "tokenizer.fit_on_texts(cleaned_lines)\n",
        "\n",
        "# Create sequences\n",
        "sequences = []\n",
        "for line in tokenizer.texts_to_sequences(cleaned_lines):\n",
        "    for i in range(1, len(line)):\n",
        "        seq = line[:i+1]\n",
        "        sequences.append(seq)\n",
        "\n",
        "# Pad sequences\n",
        "max_seq_len = max(len(seq) for seq in sequences)\n",
        "sequences = pad_sequences(sequences, maxlen=max_seq_len, padding='pre')\n",
        "\n",
        "# Split inputs/targets\n",
        "sequences = np.array(sequences)\n",
        "X, y = sequences[:, :-1], sequences[:, -1]\n",
        "vocab_size = len(tokenizer.word_index) + 1"
      ],
      "metadata": {
        "id": "9RQ0SqaucSVI"
      },
      "execution_count": 14,
      "outputs": []
    },
    {
      "cell_type": "code",
      "source": [
        "# for reference, we try with small data first\n",
        "\n",
        "X_small = X[:10000]\n",
        "y_small = y[:10000]"
      ],
      "metadata": {
        "id": "Ibb47-p7cXoU"
      },
      "execution_count": null,
      "outputs": []
    },
    {
      "cell_type": "code",
      "source": [
        "model = Sequential([\n",
        "    Embedding(input_dim=vocab_size, output_dim=64, input_length=X.shape[1]),\n",
        "    LSTM(128),  # return_sequences=False (default)\n",
        "    Dense(vocab_size, activation='softmax')\n",
        "])\n",
        "\n",
        "model.compile(loss='sparse_categorical_crossentropy', optimizer='adam', metrics=['accuracy'])\n",
        "model.summary()\n",
        "\n",
        "model.fit(X_small, y_small, epochs=5, batch_size=128, validation_split=0.1)"
      ],
      "metadata": {
        "id": "XGfaU6e-chL5",
        "outputId": "084d24c5-914c-456b-b7aa-4813a4e676a9",
        "colab": {
          "base_uri": "https://localhost:8080/",
          "height": 232
        }
      },
      "execution_count": 16,
      "outputs": [
        {
          "output_type": "display_data",
          "data": {
            "text/plain": [
              "\u001b[1mModel: \"sequential_1\"\u001b[0m\n"
            ],
            "text/html": [
              "<pre style=\"white-space:pre;overflow-x:auto;line-height:normal;font-family:Menlo,'DejaVu Sans Mono',consolas,'Courier New',monospace\"><span style=\"font-weight: bold\">Model: \"sequential_1\"</span>\n",
              "</pre>\n"
            ]
          },
          "metadata": {}
        },
        {
          "output_type": "display_data",
          "data": {
            "text/plain": [
              "┏━━━━━━━━━━━━━━━━━━━━━━━━━━━━━━━━━┳━━━━━━━━━━━━━━━━━━━━━━━━┳━━━━━━━━━━━━━━━┓\n",
              "┃\u001b[1m \u001b[0m\u001b[1mLayer (type)                   \u001b[0m\u001b[1m \u001b[0m┃\u001b[1m \u001b[0m\u001b[1mOutput Shape          \u001b[0m\u001b[1m \u001b[0m┃\u001b[1m \u001b[0m\u001b[1m      Param #\u001b[0m\u001b[1m \u001b[0m┃\n",
              "┡━━━━━━━━━━━━━━━━━━━━━━━━━━━━━━━━━╇━━━━━━━━━━━━━━━━━━━━━━━━╇━━━━━━━━━━━━━━━┩\n",
              "│ embedding_1 (\u001b[38;5;33mEmbedding\u001b[0m)         │ ?                      │   \u001b[38;5;34m0\u001b[0m (unbuilt) │\n",
              "├─────────────────────────────────┼────────────────────────┼───────────────┤\n",
              "│ lstm_1 (\u001b[38;5;33mLSTM\u001b[0m)                   │ ?                      │   \u001b[38;5;34m0\u001b[0m (unbuilt) │\n",
              "├─────────────────────────────────┼────────────────────────┼───────────────┤\n",
              "│ dense_1 (\u001b[38;5;33mDense\u001b[0m)                 │ ?                      │   \u001b[38;5;34m0\u001b[0m (unbuilt) │\n",
              "└─────────────────────────────────┴────────────────────────┴───────────────┘\n"
            ],
            "text/html": [
              "<pre style=\"white-space:pre;overflow-x:auto;line-height:normal;font-family:Menlo,'DejaVu Sans Mono',consolas,'Courier New',monospace\">┏━━━━━━━━━━━━━━━━━━━━━━━━━━━━━━━━━┳━━━━━━━━━━━━━━━━━━━━━━━━┳━━━━━━━━━━━━━━━┓\n",
              "┃<span style=\"font-weight: bold\"> Layer (type)                    </span>┃<span style=\"font-weight: bold\"> Output Shape           </span>┃<span style=\"font-weight: bold\">       Param # </span>┃\n",
              "┡━━━━━━━━━━━━━━━━━━━━━━━━━━━━━━━━━╇━━━━━━━━━━━━━━━━━━━━━━━━╇━━━━━━━━━━━━━━━┩\n",
              "│ embedding_1 (<span style=\"color: #0087ff; text-decoration-color: #0087ff\">Embedding</span>)         │ ?                      │   <span style=\"color: #00af00; text-decoration-color: #00af00\">0</span> (unbuilt) │\n",
              "├─────────────────────────────────┼────────────────────────┼───────────────┤\n",
              "│ lstm_1 (<span style=\"color: #0087ff; text-decoration-color: #0087ff\">LSTM</span>)                   │ ?                      │   <span style=\"color: #00af00; text-decoration-color: #00af00\">0</span> (unbuilt) │\n",
              "├─────────────────────────────────┼────────────────────────┼───────────────┤\n",
              "│ dense_1 (<span style=\"color: #0087ff; text-decoration-color: #0087ff\">Dense</span>)                 │ ?                      │   <span style=\"color: #00af00; text-decoration-color: #00af00\">0</span> (unbuilt) │\n",
              "└─────────────────────────────────┴────────────────────────┴───────────────┘\n",
              "</pre>\n"
            ]
          },
          "metadata": {}
        },
        {
          "output_type": "display_data",
          "data": {
            "text/plain": [
              "\u001b[1m Total params: \u001b[0m\u001b[38;5;34m0\u001b[0m (0.00 B)\n"
            ],
            "text/html": [
              "<pre style=\"white-space:pre;overflow-x:auto;line-height:normal;font-family:Menlo,'DejaVu Sans Mono',consolas,'Courier New',monospace\"><span style=\"font-weight: bold\"> Total params: </span><span style=\"color: #00af00; text-decoration-color: #00af00\">0</span> (0.00 B)\n",
              "</pre>\n"
            ]
          },
          "metadata": {}
        },
        {
          "output_type": "display_data",
          "data": {
            "text/plain": [
              "\u001b[1m Trainable params: \u001b[0m\u001b[38;5;34m0\u001b[0m (0.00 B)\n"
            ],
            "text/html": [
              "<pre style=\"white-space:pre;overflow-x:auto;line-height:normal;font-family:Menlo,'DejaVu Sans Mono',consolas,'Courier New',monospace\"><span style=\"font-weight: bold\"> Trainable params: </span><span style=\"color: #00af00; text-decoration-color: #00af00\">0</span> (0.00 B)\n",
              "</pre>\n"
            ]
          },
          "metadata": {}
        },
        {
          "output_type": "display_data",
          "data": {
            "text/plain": [
              "\u001b[1m Non-trainable params: \u001b[0m\u001b[38;5;34m0\u001b[0m (0.00 B)\n"
            ],
            "text/html": [
              "<pre style=\"white-space:pre;overflow-x:auto;line-height:normal;font-family:Menlo,'DejaVu Sans Mono',consolas,'Courier New',monospace\"><span style=\"font-weight: bold\"> Non-trainable params: </span><span style=\"color: #00af00; text-decoration-color: #00af00\">0</span> (0.00 B)\n",
              "</pre>\n"
            ]
          },
          "metadata": {}
        }
      ]
    },
    {
      "cell_type": "code",
      "source": [
        "model.build(input_shape=(None, sequences))  # Replace 50 with your sequence length"
      ],
      "metadata": {
        "id": "TSr6MOjVgvhA"
      },
      "execution_count": 20,
      "outputs": []
    },
    {
      "cell_type": "code",
      "source": [
        "visualkeras.layered_view(model, legend=True)"
      ],
      "metadata": {
        "id": "xXlFC5Z7gS36",
        "outputId": "267202b0-6a5a-45ad-ca6f-e04807c889e7",
        "colab": {
          "base_uri": "https://localhost:8080/",
          "height": 378
        }
      },
      "execution_count": 21,
      "outputs": [
        {
          "output_type": "execute_result",
          "data": {
            "text/plain": [
              "<PIL.Image.Image image mode=RGBA size=517x361>"
            ],
            "image/png": "[encoded data removed]"
          },
          "metadata": {},
          "execution_count": 21
        }
      ]
    },
    {
      "cell_type": "code",
      "source": [
        "# --------------------------------------\n",
        "# STEP 5: Text generation\n",
        "# --------------------------------------\n",
        "\n",
        "def generate_text_word(model, tokenizer, seed_text, num_words=50, temperature=1.0):\n",
        "    result = seed_text\n",
        "    for _ in range(num_words):\n",
        "        sequence = tokenizer.texts_to_sequences([result])[0]\n",
        "        sequence = pad_sequences([sequence], maxlen=X.shape[1], padding='pre')\n",
        "        preds = model.predict(sequence, verbose=0)[0]\n",
        "        preds = np.log(preds + 1e-7) / temperature\n",
        "        predicted_id = np.random.choice(range(vocab_size), p=tf.nn.softmax(preds).numpy())\n",
        "\n",
        "        output_word = tokenizer.index_word.get(predicted_id, '')\n",
        "        if output_word in ('<OOV>', ''):\n",
        "            continue\n",
        "        result += ' ' + output_word\n",
        "    return result\n",
        "\n",
        "# Example generation\n",
        "print(\"\\n📘 Generated text:\\n\")\n",
        "print(generate_text_word(model, tokenizer, seed_text=\"i hope so\", num_words=15, temperature=0.7))\n"
      ],
      "metadata": {
        "id": "aSIEOtOBi5ay"
      },
      "execution_count": null,
      "outputs": []
    },
    {
      "cell_type": "markdown",
      "source": [
        "\n",
        "\n",
        "```\n",
        "📘 Generated text:\n",
        "\n",
        "i hope so girl that up in and of i'm who's to he much for talk your connection\n",
        "```\n",
        "\n"
      ],
      "metadata": {
        "id": "l9mg8y7Yi8I5"
      }
    },
    {
      "cell_type": "code",
      "source": [
        "# Qualitative analysis\n",
        "seed_text=\"i hope so\"\n",
        "evaluate_qualitative(\"i hope so girl that up in and of i'm who's to he much for talk your connection\")"
      ],
      "metadata": {
        "id": "BC0sxWPzlN01",
        "outputId": "01f5eda0-807a-4a43-843f-a585b5dd5470",
        "colab": {
          "base_uri": "https://localhost:8080/"
        }
      },
      "execution_count": 25,
      "outputs": [
        {
          "output_type": "stream",
          "name": "stdout",
          "text": [
            "\n",
            "Qualitative Evaluation:\n",
            "Coherence and Grammar: Good\n",
            "Creativity: Interesting\n",
            "Contextual Relevance: Yes\n",
            "Diversity: High\n"
          ]
        }
      ]
    },
    {
      "cell_type": "code",
      "source": [
        "reference_text = \"i hope so. she okay? let's go. wow okay you're gonna need to learn how to lie.\"\n",
        "generated_text = \"i hope so girl that up in and of i'm who's to he much for talk your connection\"\n",
        "\n",
        "# BLEU\n",
        "bleu = calculate_bleu_score(reference_text, generated_text)\n",
        "print(f\"BLEU Score: {bleu:.4f}\")\n",
        "\n",
        "# ROUGE\n",
        "rouge = calculate_rouge(reference_text, generated_text)\n",
        "print(f\"ROUGE Scores: {rouge}\")\n",
        "\n",
        "# Entropy & Repetition\n",
        "entropy, repetition = calculate_entropy_and_repetition(generated_text)\n",
        "print(f\"Entropy: {entropy:.4f}\")\n",
        "print(f\"Repetition Ratio: {repetition:.4f}\")\n"
      ],
      "metadata": {
        "id": "-GhbpCbGjE8a"
      },
      "execution_count": null,
      "outputs": []
    },
    {
      "cell_type": "markdown",
      "source": [
        "\n",
        "\n",
        "```\n",
        "BLEU Score: 0.0000\n",
        "ROUGE Scores: {'rouge1': Score(precision=0.25, recall=0.2631578947368421, fmeasure=0.25641025641025644), 'rouge2': Score(precision=0.10526315789473684, recall=0.1111111111111111, fmeasure=0.10810810810810811), 'rougeL': Score(precision=0.25, recall=0.2631578947368421, fmeasure=0.25641025641025644)}\n",
        "Entropy: 2.8904\n",
        "Repetition Ratio: 0.0000\n",
        "```\n",
        "\n"
      ],
      "metadata": {
        "id": "6Zc8C6mKjF24"
      }
    },
    {
      "cell_type": "markdown",
      "source": [
        "\n",
        "\n",
        "*   It did not generate cohesive sentence, try more data for training\n",
        "\n"
      ],
      "metadata": {
        "id": "tJ8QbQVAjQA9"
      }
    },
    {
      "cell_type": "code",
      "source": [
        "X_small = X[:50000]\n",
        "y_small = y[:50000]"
      ],
      "metadata": {
        "id": "UsjOMi09kDSd"
      },
      "execution_count": null,
      "outputs": []
    },
    {
      "cell_type": "code",
      "source": [
        "model = Sequential([\n",
        "    Embedding(input_dim=vocab_size, output_dim=64, input_length=X.shape[1]),\n",
        "    LSTM(128),  # return_sequences=False (default)\n",
        "    Dense(vocab_size, activation='softmax')\n",
        "])\n",
        "\n",
        "model.compile(loss='sparse_categorical_crossentropy', optimizer='adam', metrics=['accuracy'])\n",
        "model.summary()\n",
        "\n",
        "history = model.fit(X_small, y_small, epochs=30, batch_size=128, validation_split=0.1)"
      ],
      "metadata": {
        "id": "TjpZJcrYkEin",
        "outputId": "e72050c5-87e0-46e1-94b8-81fbd247eea3",
        "colab": {
          "base_uri": "https://localhost:8080/",
          "height": 267
        }
      },
      "execution_count": 22,
      "outputs": [
        {
          "output_type": "stream",
          "name": "stderr",
          "text": [
            "/usr/local/lib/python3.11/dist-packages/keras/src/layers/core/embedding.py:90: UserWarning: Argument `input_length` is deprecated. Just remove it.\n",
            "  warnings.warn(\n"
          ]
        },
        {
          "output_type": "display_data",
          "data": {
            "text/plain": [
              "\u001b[1mModel: \"sequential_2\"\u001b[0m\n"
            ],
            "text/html": [
              "<pre style=\"white-space:pre;overflow-x:auto;line-height:normal;font-family:Menlo,'DejaVu Sans Mono',consolas,'Courier New',monospace\"><span style=\"font-weight: bold\">Model: \"sequential_2\"</span>\n",
              "</pre>\n"
            ]
          },
          "metadata": {}
        },
        {
          "output_type": "display_data",
          "data": {
            "text/plain": [
              "┏━━━━━━━━━━━━━━━━━━━━━━━━━━━━━━━━━┳━━━━━━━━━━━━━━━━━━━━━━━━┳━━━━━━━━━━━━━━━┓\n",
              "┃\u001b[1m \u001b[0m\u001b[1mLayer (type)                   \u001b[0m\u001b[1m \u001b[0m┃\u001b[1m \u001b[0m\u001b[1mOutput Shape          \u001b[0m\u001b[1m \u001b[0m┃\u001b[1m \u001b[0m\u001b[1m      Param #\u001b[0m\u001b[1m \u001b[0m┃\n",
              "┡━━━━━━━━━━━━━━━━━━━━━━━━━━━━━━━━━╇━━━━━━━━━━━━━━━━━━━━━━━━╇━━━━━━━━━━━━━━━┩\n",
              "│ embedding_2 (\u001b[38;5;33mEmbedding\u001b[0m)         │ ?                      │   \u001b[38;5;34m0\u001b[0m (unbuilt) │\n",
              "├─────────────────────────────────┼────────────────────────┼───────────────┤\n",
              "│ lstm_2 (\u001b[38;5;33mLSTM\u001b[0m)                   │ ?                      │   \u001b[38;5;34m0\u001b[0m (unbuilt) │\n",
              "├─────────────────────────────────┼────────────────────────┼───────────────┤\n",
              "│ dense_2 (\u001b[38;5;33mDense\u001b[0m)                 │ ?                      │   \u001b[38;5;34m0\u001b[0m (unbuilt) │\n",
              "└─────────────────────────────────┴────────────────────────┴───────────────┘\n"
            ],
            "text/html": [
              "<pre style=\"white-space:pre;overflow-x:auto;line-height:normal;font-family:Menlo,'DejaVu Sans Mono',consolas,'Courier New',monospace\">┏━━━━━━━━━━━━━━━━━━━━━━━━━━━━━━━━━┳━━━━━━━━━━━━━━━━━━━━━━━━┳━━━━━━━━━━━━━━━┓\n",
              "┃<span style=\"font-weight: bold\"> Layer (type)                    </span>┃<span style=\"font-weight: bold\"> Output Shape           </span>┃<span style=\"font-weight: bold\">       Param # </span>┃\n",
              "┡━━━━━━━━━━━━━━━━━━━━━━━━━━━━━━━━━╇━━━━━━━━━━━━━━━━━━━━━━━━╇━━━━━━━━━━━━━━━┩\n",
              "│ embedding_2 (<span style=\"color: #0087ff; text-decoration-color: #0087ff\">Embedding</span>)         │ ?                      │   <span style=\"color: #00af00; text-decoration-color: #00af00\">0</span> (unbuilt) │\n",
              "├─────────────────────────────────┼────────────────────────┼───────────────┤\n",
              "│ lstm_2 (<span style=\"color: #0087ff; text-decoration-color: #0087ff\">LSTM</span>)                   │ ?                      │   <span style=\"color: #00af00; text-decoration-color: #00af00\">0</span> (unbuilt) │\n",
              "├─────────────────────────────────┼────────────────────────┼───────────────┤\n",
              "│ dense_2 (<span style=\"color: #0087ff; text-decoration-color: #0087ff\">Dense</span>)                 │ ?                      │   <span style=\"color: #00af00; text-decoration-color: #00af00\">0</span> (unbuilt) │\n",
              "└─────────────────────────────────┴────────────────────────┴───────────────┘\n",
              "</pre>\n"
            ]
          },
          "metadata": {}
        },
        {
          "output_type": "display_data",
          "data": {
            "text/plain": [
              "\u001b[1m Total params: \u001b[0m\u001b[38;5;34m0\u001b[0m (0.00 B)\n"
            ],
            "text/html": [
              "<pre style=\"white-space:pre;overflow-x:auto;line-height:normal;font-family:Menlo,'DejaVu Sans Mono',consolas,'Courier New',monospace\"><span style=\"font-weight: bold\"> Total params: </span><span style=\"color: #00af00; text-decoration-color: #00af00\">0</span> (0.00 B)\n",
              "</pre>\n"
            ]
          },
          "metadata": {}
        },
        {
          "output_type": "display_data",
          "data": {
            "text/plain": [
              "\u001b[1m Trainable params: \u001b[0m\u001b[38;5;34m0\u001b[0m (0.00 B)\n"
            ],
            "text/html": [
              "<pre style=\"white-space:pre;overflow-x:auto;line-height:normal;font-family:Menlo,'DejaVu Sans Mono',consolas,'Courier New',monospace\"><span style=\"font-weight: bold\"> Trainable params: </span><span style=\"color: #00af00; text-decoration-color: #00af00\">0</span> (0.00 B)\n",
              "</pre>\n"
            ]
          },
          "metadata": {}
        },
        {
          "output_type": "display_data",
          "data": {
            "text/plain": [
              "\u001b[1m Non-trainable params: \u001b[0m\u001b[38;5;34m0\u001b[0m (0.00 B)\n"
            ],
            "text/html": [
              "<pre style=\"white-space:pre;overflow-x:auto;line-height:normal;font-family:Menlo,'DejaVu Sans Mono',consolas,'Courier New',monospace\"><span style=\"font-weight: bold\"> Non-trainable params: </span><span style=\"color: #00af00; text-decoration-color: #00af00\">0</span> (0.00 B)\n",
              "</pre>\n"
            ]
          },
          "metadata": {}
        }
      ]
    },
    {
      "cell_type": "code",
      "source": [
        "# Generate text\n",
        "print(generate_text_word(model, tokenizer, seed_text=\"i hope so\", num_words=15, temperature=0.7))"
      ],
      "metadata": {
        "id": "uiqz-vzGkNEY"
      },
      "execution_count": null,
      "outputs": []
    },
    {
      "cell_type": "markdown",
      "source": [
        "\n",
        "\n",
        "```\n",
        "i hope so he's other fourth going to get their ant house here may be thirty ugly way\n",
        "```\n",
        "\n"
      ],
      "metadata": {
        "id": "3QgWcBTAkN3M"
      }
    },
    {
      "cell_type": "code",
      "source": [
        "# Qualitative analysis\n",
        "seed_text=\"i hope so\"\n",
        "evaluate_qualitative(\"i hope so he's other fourth going to get their ant house here may be thirty ugly way\")"
      ],
      "metadata": {
        "id": "ViMPJWbkk-wk",
        "outputId": "5bbff817-70c3-42b6-e752-ed209e7d8095",
        "colab": {
          "base_uri": "https://localhost:8080/"
        }
      },
      "execution_count": 26,
      "outputs": [
        {
          "output_type": "stream",
          "name": "stdout",
          "text": [
            "\n",
            "Qualitative Evaluation:\n",
            "Coherence and Grammar: Good\n",
            "Creativity: Interesting\n",
            "Contextual Relevance: Yes\n",
            "Diversity: Low\n"
          ]
        }
      ]
    },
    {
      "cell_type": "code",
      "source": [
        "# Quantitative evaluation\n",
        "reference_text = \"i hope so. she okay? let's go. wow okay you're gonna need to learn how to lie.\"\n",
        "generated_text = \"i hope so he's other fourth going to get their ant house here may be thirty ugly way\"\n",
        "\n",
        "# BLEU\n",
        "bleu = calculate_bleu_score(reference_text, generated_text)\n",
        "print(f\"BLEU Score: {bleu:.4f}\")\n",
        "\n",
        "# ROUGE\n",
        "rouge = calculate_rouge(reference_text, generated_text)\n",
        "print(f\"ROUGE Scores: {rouge}\")\n",
        "\n",
        "# Entropy & Repetition\n",
        "entropy, repetition = calculate_entropy_and_repetition(generated_text)\n",
        "print(f\"Entropy: {entropy:.4f}\")\n",
        "print(f\"Repetition Ratio: {repetition:.4f}\")"
      ],
      "metadata": {
        "id": "bk3sjRaYkS1F"
      },
      "execution_count": null,
      "outputs": []
    },
    {
      "cell_type": "markdown",
      "source": [
        "\n",
        "\n",
        "```\n",
        "BLEU Score: 0.0000\n",
        "ROUGE Scores: {'rouge1': Score(precision=0.3157894736842105, recall=0.3157894736842105, fmeasure=0.3157894736842105), 'rouge2': Score(precision=0.1111111111111111, recall=0.1111111111111111, fmeasure=0.1111111111111111), 'rougeL': Score(precision=0.3157894736842105, recall=0.3157894736842105, fmeasure=0.3157894736842105)}\n",
        "Entropy: 2.8904\n",
        "Repetition Ratio: 0.0000\n",
        "```\n",
        "\n"
      ],
      "metadata": {
        "id": "pQPdz6OtkT7k"
      }
    },
    {
      "cell_type": "markdown",
      "source": [
        "\n",
        "\n",
        "*   By increasing the data, it generated more cohesive sentence, but quantitative analysis, it did not any improvement\n",
        "\n",
        "\n",
        "*   Add more layers to see how it affects to the text generation perfromance\n",
        "\n",
        "\n",
        "\n"
      ],
      "metadata": {
        "id": "_KdrJfXOkduL"
      }
    },
    {
      "cell_type": "code",
      "source": [
        "from tensorflow.keras.models import Sequential\n",
        "from tensorflow.keras.layers import Embedding, LSTM, Dense\n",
        "\n",
        "model = Sequential([\n",
        "    Embedding(input_dim=vocab_size, output_dim=64, input_length=X.shape[1]),\n",
        "    LSTM(128, return_sequences=True),\n",
        "    LSTM(128), # Add layer for more complexity\n",
        "    Dense(vocab_size, activation='softmax')\n",
        "])\n",
        "\n",
        "\n",
        "model.compile(loss='sparse_categorical_crossentropy', optimizer='adam', metrics=['accuracy'])\n",
        "model.summary()\n",
        "\n",
        "# history = model.fit(X_small, y_small, epochs=30, batch_size=128, validation_split=0.1)"
      ],
      "metadata": {
        "id": "0bxWMwhWlyND",
        "outputId": "0dc28ad1-1a3c-4cf7-f39a-6ad2b05ea896",
        "colab": {
          "base_uri": "https://localhost:8080/",
          "height": 265
        }
      },
      "execution_count": 40,
      "outputs": [
        {
          "output_type": "display_data",
          "data": {
            "text/plain": [
              "\u001b[1mModel: \"sequential_6\"\u001b[0m\n"
            ],
            "text/html": [
              "<pre style=\"white-space:pre;overflow-x:auto;line-height:normal;font-family:Menlo,'DejaVu Sans Mono',consolas,'Courier New',monospace\"><span style=\"font-weight: bold\">Model: \"sequential_6\"</span>\n",
              "</pre>\n"
            ]
          },
          "metadata": {}
        },
        {
          "output_type": "display_data",
          "data": {
            "text/plain": [
              "┏━━━━━━━━━━━━━━━━━━━━━━━━━━━━━━━━━┳━━━━━━━━━━━━━━━━━━━━━━━━┳━━━━━━━━━━━━━━━┓\n",
              "┃\u001b[1m \u001b[0m\u001b[1mLayer (type)                   \u001b[0m\u001b[1m \u001b[0m┃\u001b[1m \u001b[0m\u001b[1mOutput Shape          \u001b[0m\u001b[1m \u001b[0m┃\u001b[1m \u001b[0m\u001b[1m      Param #\u001b[0m\u001b[1m \u001b[0m┃\n",
              "┡━━━━━━━━━━━━━━━━━━━━━━━━━━━━━━━━━╇━━━━━━━━━━━━━━━━━━━━━━━━╇━━━━━━━━━━━━━━━┩\n",
              "│ embedding_6 (\u001b[38;5;33mEmbedding\u001b[0m)         │ ?                      │   \u001b[38;5;34m0\u001b[0m (unbuilt) │\n",
              "├─────────────────────────────────┼────────────────────────┼───────────────┤\n",
              "│ lstm_9 (\u001b[38;5;33mLSTM\u001b[0m)                   │ ?                      │   \u001b[38;5;34m0\u001b[0m (unbuilt) │\n",
              "├─────────────────────────────────┼────────────────────────┼───────────────┤\n",
              "│ lstm_10 (\u001b[38;5;33mLSTM\u001b[0m)                  │ ?                      │   \u001b[38;5;34m0\u001b[0m (unbuilt) │\n",
              "├─────────────────────────────────┼────────────────────────┼───────────────┤\n",
              "│ dense_6 (\u001b[38;5;33mDense\u001b[0m)                 │ ?                      │   \u001b[38;5;34m0\u001b[0m (unbuilt) │\n",
              "└─────────────────────────────────┴────────────────────────┴───────────────┘\n"
            ],
            "text/html": [
              "<pre style=\"white-space:pre;overflow-x:auto;line-height:normal;font-family:Menlo,'DejaVu Sans Mono',consolas,'Courier New',monospace\">┏━━━━━━━━━━━━━━━━━━━━━━━━━━━━━━━━━┳━━━━━━━━━━━━━━━━━━━━━━━━┳━━━━━━━━━━━━━━━┓\n",
              "┃<span style=\"font-weight: bold\"> Layer (type)                    </span>┃<span style=\"font-weight: bold\"> Output Shape           </span>┃<span style=\"font-weight: bold\">       Param # </span>┃\n",
              "┡━━━━━━━━━━━━━━━━━━━━━━━━━━━━━━━━━╇━━━━━━━━━━━━━━━━━━━━━━━━╇━━━━━━━━━━━━━━━┩\n",
              "│ embedding_6 (<span style=\"color: #0087ff; text-decoration-color: #0087ff\">Embedding</span>)         │ ?                      │   <span style=\"color: #00af00; text-decoration-color: #00af00\">0</span> (unbuilt) │\n",
              "├─────────────────────────────────┼────────────────────────┼───────────────┤\n",
              "│ lstm_9 (<span style=\"color: #0087ff; text-decoration-color: #0087ff\">LSTM</span>)                   │ ?                      │   <span style=\"color: #00af00; text-decoration-color: #00af00\">0</span> (unbuilt) │\n",
              "├─────────────────────────────────┼────────────────────────┼───────────────┤\n",
              "│ lstm_10 (<span style=\"color: #0087ff; text-decoration-color: #0087ff\">LSTM</span>)                  │ ?                      │   <span style=\"color: #00af00; text-decoration-color: #00af00\">0</span> (unbuilt) │\n",
              "├─────────────────────────────────┼────────────────────────┼───────────────┤\n",
              "│ dense_6 (<span style=\"color: #0087ff; text-decoration-color: #0087ff\">Dense</span>)                 │ ?                      │   <span style=\"color: #00af00; text-decoration-color: #00af00\">0</span> (unbuilt) │\n",
              "└─────────────────────────────────┴────────────────────────┴───────────────┘\n",
              "</pre>\n"
            ]
          },
          "metadata": {}
        },
        {
          "output_type": "display_data",
          "data": {
            "text/plain": [
              "\u001b[1m Total params: \u001b[0m\u001b[38;5;34m0\u001b[0m (0.00 B)\n"
            ],
            "text/html": [
              "<pre style=\"white-space:pre;overflow-x:auto;line-height:normal;font-family:Menlo,'DejaVu Sans Mono',consolas,'Courier New',monospace\"><span style=\"font-weight: bold\"> Total params: </span><span style=\"color: #00af00; text-decoration-color: #00af00\">0</span> (0.00 B)\n",
              "</pre>\n"
            ]
          },
          "metadata": {}
        },
        {
          "output_type": "display_data",
          "data": {
            "text/plain": [
              "\u001b[1m Trainable params: \u001b[0m\u001b[38;5;34m0\u001b[0m (0.00 B)\n"
            ],
            "text/html": [
              "<pre style=\"white-space:pre;overflow-x:auto;line-height:normal;font-family:Menlo,'DejaVu Sans Mono',consolas,'Courier New',monospace\"><span style=\"font-weight: bold\"> Trainable params: </span><span style=\"color: #00af00; text-decoration-color: #00af00\">0</span> (0.00 B)\n",
              "</pre>\n"
            ]
          },
          "metadata": {}
        },
        {
          "output_type": "display_data",
          "data": {
            "text/plain": [
              "\u001b[1m Non-trainable params: \u001b[0m\u001b[38;5;34m0\u001b[0m (0.00 B)\n"
            ],
            "text/html": [
              "<pre style=\"white-space:pre;overflow-x:auto;line-height:normal;font-family:Menlo,'DejaVu Sans Mono',consolas,'Courier New',monospace\"><span style=\"font-weight: bold\"> Non-trainable params: </span><span style=\"color: #00af00; text-decoration-color: #00af00\">0</span> (0.00 B)\n",
              "</pre>\n"
            ]
          },
          "metadata": {}
        }
      ]
    },
    {
      "cell_type": "code",
      "source": [
        "model.build(input_shape=(None, vocab_size))"
      ],
      "metadata": {
        "id": "9yHJPlscl9JC"
      },
      "execution_count": 41,
      "outputs": []
    },
    {
      "cell_type": "code",
      "source": [
        "visualkeras.layered_view(model, legend=True)"
      ],
      "metadata": {
        "id": "RR4bpi69l0q1",
        "outputId": "37f5d6ab-b6fc-492c-9c5c-4b249ea4a9aa",
        "colab": {
          "base_uri": "https://localhost:8080/",
          "height": 1000
        }
      },
      "execution_count": 42,
      "outputs": [
        {
          "output_type": "execute_result",
          "data": {
            "text/plain": [
              "<PIL.Image.Image image mode=RGBA size=847x1217>"
            ],
            "image/png": "[encoded data removed]"
          },
          "metadata": {},
          "execution_count": 42
        }
      ]
    },
    {
      "cell_type": "code",
      "source": [
        "import matplotlib.pyplot as plt\n",
        "\n",
        "history_dict = history.history\n",
        "\n",
        "# Accuracy plot\n",
        "plt.figure(figsize=(12, 5))\n",
        "\n",
        "plt.subplot(1, 2, 1)\n",
        "plt.plot(history_dict['accuracy'], label='Training Accuracy', marker='o')\n",
        "plt.plot(history_dict['val_accuracy'], label='Validation Accuracy', marker='s')\n",
        "plt.title('Model Accuracy Over Epochs')\n",
        "plt.xlabel('Epoch')\n",
        "plt.ylabel('Accuracy')\n",
        "plt.legend()\n",
        "plt.grid(True)\n",
        "\n",
        "# Loss plot\n",
        "plt.subplot(1, 2, 2)\n",
        "plt.plot(history_dict['loss'], label='Training Loss', marker='o')\n",
        "plt.plot(history_dict['val_loss'], label='Validation Loss', marker='s')\n",
        "plt.title('Model Loss Over Epochs')\n",
        "plt.xlabel('Epoch')\n",
        "plt.ylabel('Loss')\n",
        "plt.legend()\n",
        "plt.grid(True)\n",
        "\n",
        "plt.tight_layout()\n",
        "plt.show()"
      ],
      "metadata": {
        "id": "Vu2k_qF-olFZ"
      },
      "execution_count": null,
      "outputs": []
    },
    {
      "cell_type": "markdown",
      "source": [
        "![image.png](data:image/png;base64,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)"
      ],
      "metadata": {
        "id": "-M8OnDXoon9j"
      }
    },
    {
      "cell_type": "markdown",
      "source": [
        "\n",
        "\n",
        "*   The addition of layers to the model architecture resulted in early-stage overfitting, indicating limited benefit from increased depth. Despite the more complex architecture, the model failed to generalize effectively, suggesting that further layering did not contribute meaningfully to performance improvement and may have adversely affected the model’s robustness.\n",
        "\n"
      ],
      "metadata": {
        "id": "9DHB_J4xqTPs"
      }
    },
    {
      "cell_type": "code",
      "source": [
        "print(generate_text_word(model, tokenizer, seed_text=\"i hope so\", num_words=15, temperature=0.7))"
      ],
      "metadata": {
        "id": "IsXVhJikot3Q"
      },
      "execution_count": null,
      "outputs": []
    },
    {
      "cell_type": "markdown",
      "source": [
        "\n",
        "\n",
        "```\n",
        "i hope so you gonna leave it to be this way in the lateral part of the stomach\n",
        "```\n",
        "\n"
      ],
      "metadata": {
        "id": "KGPd48p1ound"
      }
    },
    {
      "cell_type": "code",
      "source": [
        "# Qualitative analysis\n",
        "seed_text=\"i hope so\"\n",
        "evaluate_qualitative(\"i hope so you gonna leave it to be this way in the lateral part of the stomach\")"
      ],
      "metadata": {
        "id": "YfC2hlGso04e",
        "outputId": "f094279c-6548-4737-82ee-fa529bc35f94",
        "colab": {
          "base_uri": "https://localhost:8080/"
        }
      },
      "execution_count": 43,
      "outputs": [
        {
          "output_type": "stream",
          "name": "stdout",
          "text": [
            "\n",
            "Qualitative Evaluation:\n",
            "Coherence and Grammar: Good\n",
            "Creativity: Interesting\n",
            "Contextual Relevance: Yes\n",
            "Diversity: High\n"
          ]
        }
      ]
    },
    {
      "cell_type": "code",
      "source": [
        "# Quantitative evaluation\n",
        "reference_text = \"i hope so. she okay? let's go. wow okay you're gonna need to learn how to lie.\"\n",
        "generated_text = \"i hope so you gonna leave it to be this way in the lateral part of the stomach\"\n",
        "# BLEU\n",
        "bleu = calculate_bleu_score(reference_text, generated_text)\n",
        "print(f\"BLEU Score: {bleu:.4f}\")\n",
        "\n",
        "# ROUGE\n",
        "rouge = calculate_rouge(reference_text, generated_text)\n",
        "print(f\"ROUGE Scores: {rouge}\")\n",
        "\n",
        "# Entropy & Repetition\n",
        "entropy, repetition = calculate_entropy_and_repetition(generated_text)\n",
        "print(f\"Entropy: {entropy:.4f}\")\n",
        "print(f\"Repetition Ratio: {repetition:.4f}\")"
      ],
      "metadata": {
        "id": "xwxDViICoz_r"
      },
      "execution_count": null,
      "outputs": []
    },
    {
      "cell_type": "markdown",
      "source": [
        "\n",
        "\n",
        "```\n",
        "BLEU Score: 0.0000\n",
        "ROUGE Scores: {'rouge1': Score(precision=0.3333333333333333, recall=0.3157894736842105, fmeasure=0.3243243243243243), 'rouge2': Score(precision=0.11764705882352941, recall=0.1111111111111111, fmeasure=0.11428571428571428), 'rougeL': Score(precision=0.3333333333333333, recall=0.3157894736842105, fmeasure=0.3243243243243243)}\n",
        "Entropy: 2.8134\n",
        "Repetition Ratio: 0.0556\n",
        "```\n",
        "\n"
      ],
      "metadata": {
        "id": "BklHVPFxpE5J"
      }
    },
    {
      "cell_type": "markdown",
      "source": [
        "\n",
        "\n",
        "*   Increasing the number of layers did not lead to significant quantitative improvements in model performance. While the training time increased substantially, the evaluation metrics remained largely unchanged.\n",
        "\n"
      ],
      "metadata": {
        "id": "G5-vs8yVqGWU"
      }
    },
    {
      "cell_type": "markdown",
      "source": [
        "**Fine tuning a model**\n",
        "\n",
        "Our initial experiments revealed that while the LSTM-based architecture is computationally intensive, it often yields suboptimal performance. To address these limitations in both efficiency and output quality, we propose an alternative approach.\n",
        "\n",
        "Specifically, we adopt a pre-trained language model. As demonstrated by Chung et al. (2020), pre-trained models significantly reduce training time and enhance the quality of generated text by leveraging representations learned from large-scale corpora. This allows for more effective fine-tuning on downstream tasks, even under constrained data and computational resources.\n",
        "\n",
        "Given our limited environment in terms of time and computational capacity, this strategy represents the most viable and effective solution.\n",
        "\n",
        "We fine-tuned gpt-2.0 model using cornel movie corpus data."
      ],
      "metadata": {
        "id": "FVW0eKL-TUNF"
      }
    },
    {
      "cell_type": "code",
      "source": [
        "# Install gpt 2.0 model\n",
        "!pip install gpt_2_simple"
      ],
      "metadata": {
        "id": "A9HQQensTrNt"
      },
      "execution_count": null,
      "outputs": []
    },
    {
      "cell_type": "code",
      "source": [
        "# Data preparation\n",
        "joined_text = \"\\n\".join(cleaned_dialogues)"
      ],
      "metadata": {
        "id": "QsHWXflGThcc"
      },
      "execution_count": null,
      "outputs": []
    },
    {
      "cell_type": "code",
      "source": [
        "# Organize dataset for fine-tuning\n",
        "with open(\"output.txt\", \"w\", encoding=\"utf-8\") as f:\n",
        "    f.write(joined_text)"
      ],
      "metadata": {
        "id": "cBak3zUDTtNe"
      },
      "execution_count": null,
      "outputs": []
    },
    {
      "cell_type": "code",
      "source": [
        "import gpt_2_simple as gpt2\n",
        "import tensorflow as tf\n",
        "gpt2.download_gpt2(model_name='124M')\n",
        "sess = gpt2.start_tf_sess()\n",
        "gpt2.finetune(sess,dataset='/content/output.txt'\n",
        "             ,model_name='124M'\n",
        "             ,steps=200\n",
        "             ,print_every=200\n",
        "             ,sample_every=100,\n",
        "              restore_from='fresh'\n",
        "\n",
        "             )"
      ],
      "metadata": {
        "id": "PWwxp4qhT2xP"
      },
      "execution_count": null,
      "outputs": []
    },
    {
      "cell_type": "markdown",
      "source": [
        "\n",
        "\n",
        "```\n",
        "Fetching checkpoint: 1.05Mit [00:00, 3.84Git/s]                                                     \n",
        "Fetching encoder.json: 1.05Mit [00:02, 519kit/s]\n",
        "Fetching hparams.json: 1.05Mit [00:00, 5.10Git/s]                                                   \n",
        "Fetching model.ckpt.data-00000-of-00001: 498Mit [02:56, 2.82Mit/s]\n",
        "Fetching model.ckpt.index: 1.05Mit [00:00, 3.27Git/s]                                               \n",
        "Fetching model.ckpt.meta: 1.05Mit [00:01, 878kit/s]\n",
        "Fetching vocab.bpe: 1.05Mit [00:01, 872kit/s]\n",
        "Loading checkpoint models/124M/model.ckpt\n",
        "Loading dataset...\n",
        "100%|██████████| 1/1 [00:15<00:00, 15.14s/it]\n",
        "dataset has 4667336 tokens\n",
        "Training...\n",
        "======== SAMPLE 1 ========\n",
        " a you're doing a goddamn thing right now, he's doing a goddamn thing. that's a fucking thing. that's just something to fucking get a feel yourself. that's not good, and he's still good enough to do it like,\n",
        "\n",
        "your dad is a fucking dope. the only thing i don't like is he's the only goddamn thing fucking nice about it.\n",
        "\n",
        "i didn't watch any of that kid play baseball. i was just getting started.\n",
        "\n",
        "i guess it's just you, or it just gets worse and worse.\n",
        "\n",
        "not that you don't like it.\n",
        "\n",
        "yeah, but you'd be the better coach. there's just no way you'd ever get that out of me, anyway. i can tell you who's better, my dad.\n",
        "\n",
        "hey, look!\n",
        "oh, you know, he's great!\n",
        "yeah, but you're too goddamn smart.\n",
        "you wouldn't. you'd call yourself the smartest person in the room.\n",
        "it was nice. i could see what was taking place.\n",
        "well, it's gotta be nice.\n",
        "you, uh, i don't know anyone like that. you want me to meet those guys?\n",
        "you gotta be super smart, you fucking idiot. you're gonna be better later, right? look, i can't wait for them to see my dad.\n",
        "you want to do that? you want to work on me, man?\n",
        "you really want to do that?\n",
        "i want to know. can you talk to me? i mean, can you? you're going to tell him i'm doing anything?\n",
        "he's gonna say, 'goodnight, man' then, like my daddy used to say, 'hey, look at this!'\n",
        "i'm never gonna go out here. you're gonna say something stupid.\n",
        "it's just a game. the other day, i was playing with this guy, so he was like, 'yeah, the same guy i told you to meet the next day. 'but all he wants is a little something.' and we had two games where he was just going down, yelling at me. and i just stood there, not talking to him. and no one would know who was in that fight. it was just him and me.\n",
        "i'd been thinking about this thing for days.\n",
        "just a game. it's like you're playing poker in my house. all we're gonna do is say, 'what happened to my dad?' 'uhm', man, you're going to say that a lot. you're going to make me look like some freak.\n",
        "i always think i understand something about that kid.\n",
        "no.\n",
        "no, but it's gotta be good. it's gotta be good.\n",
        "and then it was like, 'look, you know what i'm talking about, but then you start telling me things you shouldn't even do.\n",
        "oh, man, you're so fucking smart. you really know what i'm talking about with that kid.\n",
        "i mean, if you'd just come back and put me on my own as a wrestler, my dad would be the best coach in the world.\n",
        "i mean, come on, you wanna be good for your friends?\n",
        "not because you wanna stay there with your mom.\n",
        "no. but because you wanna be good for the people you live with.\n",
        "who doesn't want that?\n",
        "oh, my god. the guy's just trying to get that old school kid on his side, and that's what the whole thing's gonna look like.\n",
        "he had a fight and a fight and he's gonna be all over you.\n",
        "yeah.\n",
        "it was. my dad.\n",
        "he was a good wrestler. he fought big.\n",
        "yeah. he's just kinda good.\n",
        "it's like the ol' thing.\n",
        "yeah. all you have to do is get into that fight and you can stay away.\n",
        "that was great.\n",
        "i don't know.\n",
        "it was a good fight. great.\n",
        "yeah. that was great.\n",
        "he's playing poker. that's great.\n",
        "he's playing poker.\n",
        "that's great.\n",
        "oh, my god. that's great.\n",
        "oh yeah. that was great.\n",
        "oh yeah.\n",
        "it was really great.\n",
        "uhm. uhh mm. that's great. that's great.\n",
        "the guy was good. then. it's like the first one's gonna knock you out the first time.\n",
        "oh. yeah?\n",
        "okay?\n",
        "oh, he was.\n",
        "oh, he was...\n",
        "yes. he's...\n",
        "oh uhh mm. yay!\n",
        "oh, yeah. he's a good wrestler.\n",
        "i'm not going to talk to you about that. i'm going to give you a call, and you could do something.\n",
        "what? how you feeling?\n",
        "oh, yeah. he's the guy.\n",
        "you're gonna like him\n",
        "\n",
        "[200 | 496.52] loss=3.17 avg=3.17\n",
        "Saving checkpoint/run1/model-200\n",
        "```\n",
        "\n"
      ],
      "metadata": {
        "id": "tRwXMrdWT-QI"
      }
    },
    {
      "cell_type": "markdown",
      "source": [
        "\n",
        "\n",
        "*   Pick up one of the generated texts to see performance\n",
        "\n"
      ],
      "metadata": {
        "id": "keNMYeD9ZvB7"
      }
    },
    {
      "cell_type": "code",
      "source": [
        "# Qualitative evaluation\n",
        "seed_text = \"i'm not going\"\n",
        "evaluate_qualitative(\"i'm not going to talk to you about that. i'm going to give you a call, and you could do something.\")"
      ],
      "metadata": {
        "id": "HHJtVmP3T_GM"
      },
      "execution_count": null,
      "outputs": []
    },
    {
      "cell_type": "markdown",
      "source": [
        "```\n",
        "\n",
        "Qualitative Evaluation:\n",
        "Coherence and Grammar: Good\n",
        "Creativity: Interesting\n",
        "Contextual Relevance: Yes\n",
        "Diversity: High\n",
        "```\n",
        "\n"
      ],
      "metadata": {
        "id": "4aaqSbUMUXZM"
      }
    },
    {
      "cell_type": "code",
      "source": [
        "generated_text = \"i'm not going to talk to you about that. i'm going to give you a call, and you could do something.\"\n",
        "\n",
        "# 2. BLEU Score Calculation\n",
        "reference_text = \"i'm not going to talk about her anymore. i thought you'd appreciate that.\"\n",
        "bleu_score = calculate_bleu(reference_text, generated_text)\n",
        "print(\"BLEU Score:\", bleu_score)\n",
        "\n",
        "# 3. ROUGE Score Calculation\n",
        "rouge_scores = calculate_rouge(reference_text, generated_text)\n",
        "print(\"ROUGE Score:\", rouge_scores)\n",
        "\n",
        "# 4. Entropy and Repetition Metrics\n",
        "entropy_score, repetition_score = calculate_entropy_and_repetition(generated_text)\n",
        "print(\"Entropy Score:\", entropy_score)\n",
        "print(\"Repetition Score:\", repetition_score)"
      ],
      "metadata": {
        "id": "bKIdIz92UY4_"
      },
      "execution_count": null,
      "outputs": []
    },
    {
      "cell_type": "markdown",
      "source": [
        "```\n",
        "BLEU Score: 0.1849304691034943\n",
        "ROUGE Score: {'rouge-1': {'r': 0.5384615384615384, 'p': 0.4666666666666667, 'f': 0.4999999950255103}, 'rouge-2': {'r': 0.3333333333333333, 'p': 0.21052631578947367, 'f': 0.2580645113839751}, 'rouge-l': {'r': 0.5384615384615384, 'p': 0.4666666666666667, 'f': 0.4999999950255103}}\n",
        "Entropy Score: 3.909741765391666\n",
        "Repetition Score: 0.7755102040816326\n",
        "```\n",
        "\n"
      ],
      "metadata": {
        "id": "bvStvNIeUn_C"
      }
    },
    {
      "cell_type": "markdown",
      "source": [
        "**Result**\n",
        "\n",
        "*   Training time was dramatically decreased, LSTM model took from 60 seconds to 600 seconds per epoch, but this fine-tuning completed less than 5 minutes.\n",
        "*   Due to lack of reference texts, quantitative evaluation is poor, but gramaticaly, fine-tuned model's output is readable, and make it sence for human readers.\n",
        "\n"
      ],
      "metadata": {
        "id": "Zh64yh3MZ5ij"
      }
    }
  ]
}